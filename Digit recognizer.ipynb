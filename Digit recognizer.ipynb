{
 "cells": [
  {
   "cell_type": "markdown",
   "metadata": {},
   "source": [
    "# Digit recognizer"
   ]
  },
  {
   "cell_type": "code",
   "execution_count": 196,
   "metadata": {},
   "outputs": [],
   "source": [
    "### Importing libraries\n",
    "from matplotlib import pyplot as plt\n",
    "import numpy as np\n",
    "import pandas as pd\n",
    "import seaborn as sns\n",
    "from sklearn import metrics\n",
    "import tensorflow as tf\n",
    "from time import time\n",
    "tf.logging.set_verbosity(tf.logging.ERROR)\n",
    "\n",
    "pd.options.display.max_rows = 10\n",
    "pd.options.display.float_format = '{:.1f}'.format"
   ]
  },
  {
   "cell_type": "code",
   "execution_count": 228,
   "metadata": {},
   "outputs": [],
   "source": [
    "### Importing MNIST dataset\n",
    "train=pd.read_csv(\"train.csv\")\n",
    "test=pd.read_csv(\"test.csv\")"
   ]
  },
  {
   "cell_type": "code",
   "execution_count": 271,
   "metadata": {},
   "outputs": [],
   "source": [
    "### Splitting the training data\n",
    "evl=train.iloc[0:4000,:]\n",
    "evl2=train.iloc[4000:5000,:]\n",
    "\n",
    "### Splitting labels and features\n",
    "evl_l=evl[\"label\"]\n",
    "evl_f=evl.iloc[:,1:]\n",
    "\n",
    "evl2_l=evl2[\"label\"]\n",
    "evl2_f=evl2.iloc[:,1:]"
   ]
  },
  {
   "cell_type": "code",
   "execution_count": 199,
   "metadata": {},
   "outputs": [
    {
     "data": {
      "image/png": "[encoded data removed]",
      "text/plain": [
       "<Figure size 432x288 with 1 Axes>"
      ]
     },
     "metadata": {},
     "output_type": "display_data"
    }
   ],
   "source": [
    "### Showing random example\n",
    "random=np.random.randint(len(evl_f)-1)\n",
    "_, ax = plt.subplots()\n",
    "ax.matshow(train_f.iloc[random,:].values.reshape(28, 28))\n",
    "ax.grid(False)"
   ]
  },
  {
   "cell_type": "code",
   "execution_count": 200,
   "metadata": {},
   "outputs": [],
   "source": [
    "def construct_feature_columns():\n",
    "    return set([tf.feature_column.numeric_column(\"pixels\",shape=784)])"
   ]
  },
  {
   "cell_type": "code",
   "execution_count": 216,
   "metadata": {},
   "outputs": [],
   "source": [
    "def create_training_input_fn(features2,labels2,batch_size,epochs=None):\n",
    "    def _input_fn():\n",
    "        idx=np.random.permutation(features2.index.values)\n",
    "        features=features2.reindex(idx)\n",
    "        features={\"pixels\":features}\n",
    "        labels=np.array(labels2[idx])\n",
    "        ds=tf.data.Dataset.from_tensor_slices((features,labels))\n",
    "        ds=ds.batch(batch_size).repeat(epochs)\n",
    "        ds=ds.shuffle(40000)\n",
    "        \n",
    "        feature_batch,label_batch=ds.make_one_shot_iterator().get_next()\n",
    "        return feature_batch,label_batch\n",
    "    return _input_fn"
   ]
  },
  {
   "cell_type": "code",
   "execution_count": 202,
   "metadata": {},
   "outputs": [],
   "source": [
    "def create_predict_input_fn(features2,labels2,batch_size):\n",
    "    def _input_fn():\n",
    "        features={\"pixels\":features2}\n",
    "        labels=np.array(labels2)\n",
    "        \n",
    "        ds=tf.data.Dataset.from_tensor_slices((features,labels))\n",
    "        ds=ds.batch(batch_size)\n",
    "        \n",
    "        feature_batch,label_batch=ds.make_one_shot_iterator().get_next()\n",
    "        return feature_batch,label_batch\n",
    "    return _input_fn"
   ]
  },
  {
   "cell_type": "code",
   "execution_count": 272,
   "metadata": {},
   "outputs": [],
   "source": [
    "def train_linear_classifier(train_f,train_l,pred_f,pred_l,batch_size,steps):\n",
    "    training_input_fn=create_training_input_fn(train_f,train_l,batch_size=batch_size)\n",
    "    predict_input_fn=create_predict_input_fn(pred_f,pred_l,batch_size=1)\n",
    "    \n",
    "    classifier=tf.estimator.LinearClassifier(feature_columns=construct_feature_columns(), \n",
    "                                         n_classes=10, \n",
    "                                         optimizer=\"Ftrl\",\n",
    "                                         config=tf.estimator.RunConfig(keep_checkpoint_max=1))\n",
    "    a=time()\n",
    "    classifier.train(input_fn=training_input_fn,steps=steps)\n",
    "    print(\"training time:\")\n",
    "    print(time()-a)\n",
    "    return classifier"
   ]
  },
  {
   "cell_type": "code",
   "execution_count": 273,
   "metadata": {},
   "outputs": [
    {
     "name": "stdout",
     "output_type": "stream",
     "text": [
      "training time:\n",
      "66.8477611541748\n"
     ]
    }
   ],
   "source": [
    "classifier=train_linear_classifier(evl_f,evl_l,evl2_f,evl2_l,5,500)"
   ]
  },
  {
   "cell_type": "code",
   "execution_count": 274,
   "metadata": {},
   "outputs": [],
   "source": [
    "pred=classifier.predict(input_fn=predict_input_fn)"
   ]
  },
  {
   "cell_type": "code",
   "execution_count": 275,
   "metadata": {},
   "outputs": [],
   "source": [
    "pred2=np.array([item[\"class_ids\"][0] for item in pred])"
   ]
  },
  {
   "cell_type": "code",
   "execution_count": 276,
   "metadata": {},
   "outputs": [
    {
     "data": {
      "text/plain": [
       "0.105"
      ]
     },
     "execution_count": 276,
     "metadata": {},
     "output_type": "execute_result"
    }
   ],
   "source": [
    "metrics.accuracy_score(np.array(evl2_l),pred2)"
   ]
  },
  {
   "cell_type": "code",
   "execution_count": 277,
   "metadata": {},
   "outputs": [
    {
     "data": {
      "text/plain": [
       "34000    1\n",
       "34001    2\n",
       "34002    7\n",
       "34003    9\n",
       "34004    4\n",
       "        ..\n",
       "34995    7\n",
       "34996    9\n",
       "34997    7\n",
       "34998    7\n",
       "34999    0\n",
       "Name: label, Length: 1000, dtype: int64"
      ]
     },
     "execution_count": 277,
     "metadata": {},
     "output_type": "execute_result"
    }
   ],
   "source": [
    "evl2_l"
   ]
  },
  {
   "cell_type": "code",
   "execution_count": 278,
   "metadata": {},
   "outputs": [
    {
     "data": {
      "text/plain": [
       "array([9, 6, 2, 4, 1, 4, 6, 1, 2, 7, 7, 4, 1, 4, 1, 3, 6, 8, 8, 7, 0, 7,\n",
       "       1, 1, 0, 4, 7, 1, 3, 1, 1, 8, 4, 2, 3, 5, 0, 6, 0, 8, 3, 7, 5, 7,\n",
       "       6, 7, 3, 3, 1, 1, 3, 1, 8, 4, 6, 3, 4, 0, 3, 1, 0, 1, 3, 7, 8, 8,\n",
       "       7, 8, 9, 0, 0, 6, 3, 6, 6, 1, 8, 9, 8, 1, 6, 0, 0, 9, 2, 3, 9, 8,\n",
       "       6, 1, 8, 5, 6, 0, 6, 9, 9, 3, 6, 5, 5, 6, 6, 2, 0, 2, 0, 2, 3, 3,\n",
       "       1, 3, 2, 4, 0, 1, 2, 0, 3, 1, 6, 0, 3, 3, 8, 2, 5, 4, 7, 6, 7, 1,\n",
       "       8, 0, 0, 5, 6, 6, 8, 2, 4, 7, 5, 0, 0, 3, 3, 1, 3, 0, 5, 2, 1, 2,\n",
       "       0, 3, 7, 1, 9, 1, 1, 9, 0, 7, 3, 5, 9, 5, 2, 1, 3, 8, 5, 2, 7, 9,\n",
       "       7, 2, 1, 4, 5, 1, 1, 8, 6, 5, 1, 4, 0, 2, 7, 2, 7, 9, 3, 3, 1, 4,\n",
       "       4, 9, 6, 8, 7, 8, 7, 2, 5, 6, 5, 2, 6, 3, 5, 4, 3, 3, 2, 1, 1, 8,\n",
       "       1, 1, 3, 7, 2, 9, 0, 3, 8, 8, 5, 2, 9, 6, 9, 1, 8, 1, 2, 0, 1, 6,\n",
       "       1, 6, 9, 1, 7, 3, 8, 4, 2, 4, 8, 9, 4, 9, 7, 1, 5, 7, 8, 7, 6, 5,\n",
       "       0, 7, 0, 2, 0, 3, 0, 8, 6, 4, 4, 8, 3, 2, 4, 3, 5, 8, 0, 5, 9, 8,\n",
       "       3, 4, 4, 6, 0, 4, 8, 6, 3, 8, 0, 8, 4, 1, 5, 0, 2, 4, 7, 3, 7, 0,\n",
       "       7, 8, 0, 2, 7, 3, 7, 6, 3, 1, 7, 6, 1, 6, 2, 1, 9, 2, 6, 4, 1, 9,\n",
       "       5, 9, 2, 5, 1, 4, 4, 4, 3, 7, 1, 1, 5, 6, 0, 0, 4, 3, 7, 9, 2, 1,\n",
       "       5, 6, 0, 6, 2, 2, 4, 9, 7, 4, 8, 1, 2, 2, 3, 7, 9, 2, 2, 0, 4, 7,\n",
       "       0, 3, 4, 8, 7, 6, 6, 4, 6, 7, 3, 8, 1, 4, 4, 2, 9, 0, 3, 0, 1, 3,\n",
       "       0, 5, 6, 4, 2, 3, 8, 4, 2, 7, 6, 1, 3, 1, 7, 4, 9, 5, 8, 4, 9, 7,\n",
       "       8, 7, 9, 7, 1, 4, 7, 9, 2, 0, 1, 8, 4, 1, 3, 8, 0, 8, 8, 3, 1, 0,\n",
       "       5, 7, 7, 8, 8, 1, 2, 2, 4, 9, 8, 8, 4, 2, 1, 1, 2, 1, 6, 8, 1, 4,\n",
       "       1, 4, 8, 7, 9, 6, 4, 7, 3, 9, 5, 3, 2, 1, 6, 7, 5, 4, 9, 7, 7, 1,\n",
       "       8, 8, 2, 1, 2, 5, 1, 5, 1, 0, 4, 1, 5, 0, 9, 2, 9, 4, 1, 4, 4, 3,\n",
       "       1, 6, 5, 9, 4, 7, 0, 4, 8, 0, 3, 2, 1, 3, 6, 2, 9, 2, 0, 6, 1, 4,\n",
       "       3, 0, 5, 0, 8, 0, 1, 1, 6, 8, 4, 1, 2, 7, 6, 5, 1, 4, 7, 1, 7, 9,\n",
       "       4, 7, 6, 7, 9, 7, 8, 9, 2, 6, 2, 4, 3, 2, 9, 6, 3, 3, 2, 8, 3, 5,\n",
       "       8, 6, 0, 0, 9, 3, 0, 7, 6, 3, 4, 4, 1, 5, 9, 6, 2, 0, 4, 8, 3, 2,\n",
       "       4, 6, 2, 8, 9, 4, 1, 2, 4, 8, 7, 8, 0, 6, 7, 4, 9, 4, 4, 4, 1, 8,\n",
       "       4, 4, 6, 6, 6, 8, 8, 6, 6, 8, 4, 7, 1, 1, 7, 7, 8, 1, 0, 9, 7, 1,\n",
       "       1, 9, 1, 1, 2, 4, 9, 8, 1, 3, 8, 4, 0, 2, 6, 1, 7, 0, 2, 3, 6, 1,\n",
       "       7, 8, 4, 7, 5, 6, 6, 8, 7, 8, 6, 9, 8, 1, 7, 6, 3, 2, 9, 4, 0, 2,\n",
       "       4, 1, 1, 8, 8, 4, 8, 3, 4, 1, 0, 4, 2, 9, 2, 4, 3, 3, 7, 3, 8, 9,\n",
       "       4, 7, 2, 8, 1, 6, 3, 8, 8, 3, 8, 1, 4, 3, 7, 6, 7, 5, 8, 8, 8, 4,\n",
       "       1, 7, 4, 3, 8, 8, 6, 6, 6, 7, 9, 7, 2, 6, 1, 6, 9, 3, 1, 6, 6, 0,\n",
       "       1, 1, 6, 2, 5, 0, 0, 3, 1, 8, 7, 6, 8, 7, 2, 9, 7, 0, 3, 7, 4, 8,\n",
       "       3, 6, 6, 3, 3, 6, 3, 0, 0, 7, 7, 1, 1, 3, 5, 5, 5, 4, 1, 7, 3, 7,\n",
       "       5, 4, 4, 2, 2, 4, 7, 6, 0, 0, 3, 5, 7, 9, 2, 8, 9, 9, 1, 3, 0, 1,\n",
       "       8, 2, 9, 9, 0, 0, 5, 5, 6, 2, 0, 6, 0, 2, 2, 9, 4, 3, 0, 1, 0, 2,\n",
       "       6, 7, 5, 7, 7, 0, 8, 8, 3, 2, 5, 5, 5, 8, 7, 4, 7, 5, 3, 9, 9, 3,\n",
       "       0, 4, 0, 7, 9, 6, 2, 3, 1, 5, 1, 9, 9, 5, 7, 1, 2, 5, 0, 1, 3, 2,\n",
       "       8, 6, 5, 3, 9, 4, 7, 8, 7, 7, 8, 2, 7, 4, 0, 8, 9, 7, 8, 0, 6, 7,\n",
       "       4, 7, 4, 6, 4, 8, 9, 1, 3, 5, 3, 1, 2, 3, 6, 0, 1, 0, 5, 6, 2, 7,\n",
       "       3, 5, 1, 3, 9, 5, 4, 3, 1, 3, 1, 5, 2, 5, 7, 8, 9, 6, 5, 3, 0, 6,\n",
       "       1, 7, 2, 5, 3, 3, 5, 3, 6, 4, 3, 7, 0, 1, 4, 2, 2, 7, 7, 1, 6, 9,\n",
       "       9, 0, 8, 0, 3, 0, 2, 8, 0, 2, 7, 1, 6, 4, 5, 5, 5, 4, 2, 2, 2, 8,\n",
       "       6, 4, 4, 0, 9, 4, 4, 6, 0, 0], dtype=int64)"
      ]
     },
     "execution_count": 278,
     "metadata": {},
     "output_type": "execute_result"
    }
   ],
   "source": [
    "pred2"
   ]
  },
  {
   "cell_type": "code",
   "execution_count": null,
   "metadata": {},
   "outputs": [],
   "source": []
  }
 ],
 "metadata": {
  "kernelspec": {
   "display_name": "py36",
   "language": "python",
   "name": "py36"
  },
  "language_info": {
   "codemirror_mode": {
    "name": "ipython",
    "version": 3
   },
   "file_extension": ".py",
   "mimetype": "text/x-python",
   "name": "python",
   "nbconvert_exporter": "python",
   "pygments_lexer": "ipython3",
   "version": "3.6.5"
  }
 },
 "nbformat": 4,
 "nbformat_minor": 2
}
