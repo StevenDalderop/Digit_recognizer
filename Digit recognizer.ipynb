{
 "cells": [
  {
   "cell_type": "markdown",
   "metadata": {},
   "source": [
    "# Digit recognizer"
   ]
  },
  {
   "cell_type": "code",
   "execution_count": 31,
   "metadata": {},
   "outputs": [],
   "source": [
    "### Importing libraries\n",
    "from matplotlib import pyplot as plt\n",
    "import numpy as np\n",
    "import math\n",
    "import pandas as pd\n",
    "import seaborn as sns\n",
    "from sklearn import metrics\n",
    "import tensorflow as tf\n",
    "from time import time\n",
    "tf.logging.set_verbosity(tf.logging.INFO) # DEBUG,WARN,INFO,FATAL,ERROR\n",
    "\n",
    "pd.options.display.max_rows = 10\n",
    "pd.options.display.float_format = '{:.1f}'.format"
   ]
  },
  {
   "cell_type": "code",
   "execution_count": 2,
   "metadata": {},
   "outputs": [],
   "source": [
    "### Importing MNIST dataset\n",
    "train=pd.read_csv(\"train.csv\")\n",
    "test=pd.read_csv(\"test.csv\")"
   ]
  },
  {
   "cell_type": "code",
   "execution_count": 35,
   "metadata": {},
   "outputs": [],
   "source": [
    "### Splitting the training data\n",
    "evl=train.iloc[0:1000,:]\n",
    "evl2=train.iloc[1000:2000,:]\n",
    "\n",
    "### Splitting labels and features\n",
    "evl_l=evl[\"label\"]\n",
    "evl_f=evl.iloc[:,1:]\n",
    "\n",
    "evl2_l=evl2[\"label\"]\n",
    "evl2_f=evl2.iloc[:,1:]"
   ]
  },
  {
   "cell_type": "code",
   "execution_count": 4,
   "metadata": {},
   "outputs": [
    {
     "data": {
      "image/png": "[encoded data removed]",
      "text/plain": [
       "<Figure size 432x288 with 1 Axes>"
      ]
     },
     "metadata": {},
     "output_type": "display_data"
    }
   ],
   "source": [
    "### Showing random example\n",
    "random=np.random.randint(len(evl_f)-1)\n",
    "_, ax = plt.subplots()\n",
    "ax.matshow(evl_f.iloc[random,:].values.reshape(28, 28))\n",
    "ax.grid(False)"
   ]
  },
  {
   "cell_type": "markdown",
   "metadata": {},
   "source": [
    "### Neural network"
   ]
  },
  {
   "cell_type": "code",
   "execution_count": 5,
   "metadata": {},
   "outputs": [],
   "source": [
    "def construct_feature_columns():\n",
    "    return set([tf.feature_column.numeric_column(\"pixels\",shape=784)])"
   ]
  },
  {
   "cell_type": "code",
   "execution_count": 6,
   "metadata": {},
   "outputs": [],
   "source": [
    "def create_training_input_fn(features2,labels2,batch_size,epochs=None):\n",
    "    def _input_fn():\n",
    "        idx=np.random.permutation(features2.index.values)\n",
    "        features=features2.reindex(idx)\n",
    "        features={\"pixels\":features}\n",
    "        labels=np.array(labels2[idx])\n",
    "        ds=tf.data.Dataset.from_tensor_slices((features,labels))\n",
    "        ds=ds.batch(batch_size).repeat(epochs)\n",
    "        ds=ds.shuffle(40000)\n",
    "        \n",
    "        feature_batch,label_batch=ds.make_one_shot_iterator().get_next()\n",
    "        return feature_batch,label_batch\n",
    "    return _input_fn"
   ]
  },
  {
   "cell_type": "code",
   "execution_count": 7,
   "metadata": {},
   "outputs": [],
   "source": [
    "def create_predict_input_fn(features2,labels2,batch_size):\n",
    "    def _input_fn():\n",
    "        features={\"pixels\":features2}\n",
    "        labels=np.array(labels2)\n",
    "        \n",
    "        ds=tf.data.Dataset.from_tensor_slices((features,labels))\n",
    "        ds=ds.batch(batch_size)\n",
    "        \n",
    "        feature_batch,label_batch=ds.make_one_shot_iterator().get_next()\n",
    "        return feature_batch,label_batch\n",
    "    return _input_fn"
   ]
  },
  {
   "cell_type": "code",
   "execution_count": 26,
   "metadata": {},
   "outputs": [],
   "source": [
    "def train_nn(train_f,train_l,pred_f,pred_l,batch_size,steps,learning_rate,periods):\n",
    "    training_input_fn=create_training_input_fn(train_f,train_l,batch_size=batch_size)\n",
    "    predict_input_fn=create_predict_input_fn(evl2_f,evl2_l,batch_size=1)\n",
    "    a=time()\n",
    "    optimizer=tf.train.AdagradOptimizer(learning_rate=learning_rate)\n",
    "    classifier=tf.estimator.DNNClassifier(hidden_units=[10,10],\n",
    "                                          feature_columns=construct_feature_columns(), \n",
    "                                          n_classes=10, \n",
    "                                          optimizer=optimizer)\n",
    "    steps_per=steps/periods\n",
    "    print(\"Time to create classifier: %f\" % (time()-a))\n",
    "    for i in range(periods):\n",
    "        classifier.train(input_fn=training_input_fn,steps=steps_per)\n",
    "        print(\"Time to train: %f\" %(time()-a))\n",
    "        pred=classifier.predict(input_fn=predict_input_fn)\n",
    "        pred2=np.array([item[\"class_ids\"][0] for item in pred])\n",
    "        print(\"Time to predict: %f\" %(time()-a))\n",
    "        \n",
    "        print(metrics.accuracy_score(np.array(evl2_l),pred2))\n",
    "    \n",
    "    return classifier"
   ]
  },
  {
   "cell_type": "code",
   "execution_count": 36,
   "metadata": {
    "scrolled": true
   },
   "outputs": [
    {
     "name": "stdout",
     "output_type": "stream",
     "text": [
      "INFO:tensorflow:Using default config.\n",
      "WARNING:tensorflow:Using temporary folder as model directory: C:\\Users\\Steven\\AppData\\Local\\Temp\\tmp6h4oqe3u\n",
      "INFO:tensorflow:Using config: {'_model_dir': 'C:\\\\Users\\\\Steven\\\\AppData\\\\Local\\\\Temp\\\\tmp6h4oqe3u', '_tf_random_seed': None, '_save_summary_steps': 100, '_save_checkpoints_steps': None, '_save_checkpoints_secs': 600, '_session_config': None, '_keep_checkpoint_max': 5, '_keep_checkpoint_every_n_hours': 10000, '_log_step_count_steps': 100, '_train_distribute': None, '_service': None, '_cluster_spec': <tensorflow.python.training.server_lib.ClusterSpec object at 0x000002D1DAA30AC8>, '_task_type': 'worker', '_task_id': 0, '_global_id_in_cluster': 0, '_master': '', '_evaluation_master': '', '_is_chief': True, '_num_ps_replicas': 0, '_num_worker_replicas': 1}\n",
      "Time to create classifier: 0.026964\n",
      "INFO:tensorflow:Calling model_fn.\n",
      "INFO:tensorflow:Done calling model_fn.\n",
      "INFO:tensorflow:Create CheckpointSaverHook.\n",
      "INFO:tensorflow:Graph was finalized.\n",
      "INFO:tensorflow:Running local_init_op.\n",
      "INFO:tensorflow:Done running local_init_op.\n",
      "INFO:tensorflow:Saving checkpoints for 1 into C:\\Users\\Steven\\AppData\\Local\\Temp\\tmp6h4oqe3u\\model.ckpt.\n",
      "INFO:tensorflow:loss = 367.53308, step = 1\n",
      "INFO:tensorflow:global_step/sec: 38.6233\n",
      "INFO:tensorflow:loss = 20.411974, step = 101 (2.543 sec)\n",
      "INFO:tensorflow:global_step/sec: 317.611\n",
      "INFO:tensorflow:loss = 20.531929, step = 201 (0.285 sec)\n",
      "INFO:tensorflow:global_step/sec: 204.272\n",
      "INFO:tensorflow:loss = 20.611397, step = 301 (0.490 sec)\n",
      "INFO:tensorflow:Saving checkpoints for 334 into C:\\Users\\Steven\\AppData\\Local\\Temp\\tmp6h4oqe3u\\model.ckpt.\n",
      "INFO:tensorflow:Loss for final step: 20.797966.\n",
      "Time to train: 81.596543\n",
      "INFO:tensorflow:Calling model_fn.\n",
      "INFO:tensorflow:Done calling model_fn.\n",
      "INFO:tensorflow:Graph was finalized.\n",
      "INFO:tensorflow:Restoring parameters from C:\\Users\\Steven\\AppData\\Local\\Temp\\tmp6h4oqe3u\\model.ckpt-334\n",
      "INFO:tensorflow:Running local_init_op.\n",
      "INFO:tensorflow:Done running local_init_op.\n",
      "Time to predict: 94.170429\n",
      "0.206\n",
      "INFO:tensorflow:Calling model_fn.\n",
      "INFO:tensorflow:Done calling model_fn.\n",
      "INFO:tensorflow:Create CheckpointSaverHook.\n",
      "INFO:tensorflow:Graph was finalized.\n",
      "INFO:tensorflow:Restoring parameters from C:\\Users\\Steven\\AppData\\Local\\Temp\\tmp6h4oqe3u\\model.ckpt-334\n",
      "INFO:tensorflow:Running local_init_op.\n",
      "INFO:tensorflow:Done running local_init_op.\n",
      "INFO:tensorflow:Saving checkpoints for 335 into C:\\Users\\Steven\\AppData\\Local\\Temp\\tmp6h4oqe3u\\model.ckpt.\n",
      "INFO:tensorflow:loss = 20.640676, step = 335\n",
      "INFO:tensorflow:global_step/sec: 64.0512\n",
      "INFO:tensorflow:loss = 20.412983, step = 435 (1.499 sec)\n",
      "INFO:tensorflow:global_step/sec: 380.926\n",
      "INFO:tensorflow:loss = 18.041933, step = 535 (0.216 sec)\n",
      "INFO:tensorflow:global_step/sec: 296.823\n",
      "INFO:tensorflow:loss = 18.142185, step = 635 (0.337 sec)\n",
      "INFO:tensorflow:Saving checkpoints for 668 into C:\\Users\\Steven\\AppData\\Local\\Temp\\tmp6h4oqe3u\\model.ckpt.\n",
      "INFO:tensorflow:Loss for final step: 18.02472.\n",
      "Time to train: 141.921007\n",
      "INFO:tensorflow:Calling model_fn.\n",
      "INFO:tensorflow:Done calling model_fn.\n",
      "INFO:tensorflow:Graph was finalized.\n",
      "INFO:tensorflow:Restoring parameters from C:\\Users\\Steven\\AppData\\Local\\Temp\\tmp6h4oqe3u\\model.ckpt-668\n",
      "INFO:tensorflow:Running local_init_op.\n",
      "INFO:tensorflow:Done running local_init_op.\n",
      "Time to predict: 147.081746\n",
      "0.241\n",
      "INFO:tensorflow:Calling model_fn.\n",
      "INFO:tensorflow:Done calling model_fn.\n",
      "INFO:tensorflow:Create CheckpointSaverHook.\n",
      "INFO:tensorflow:Graph was finalized.\n",
      "INFO:tensorflow:Restoring parameters from C:\\Users\\Steven\\AppData\\Local\\Temp\\tmp6h4oqe3u\\model.ckpt-668\n",
      "INFO:tensorflow:Running local_init_op.\n",
      "INFO:tensorflow:Done running local_init_op.\n",
      "INFO:tensorflow:Saving checkpoints for 669 into C:\\Users\\Steven\\AppData\\Local\\Temp\\tmp6h4oqe3u\\model.ckpt.\n",
      "INFO:tensorflow:loss = 20.152983, step = 669\n",
      "INFO:tensorflow:global_step/sec: 49.4527\n",
      "INFO:tensorflow:loss = 19.901192, step = 769 (1.975 sec)\n",
      "INFO:tensorflow:global_step/sec: 366.825\n",
      "INFO:tensorflow:loss = 22.784702, step = 869 (0.241 sec)\n",
      "INFO:tensorflow:global_step/sec: 360.188\n",
      "INFO:tensorflow:loss = 20.31197, step = 969 (0.278 sec)\n",
      "INFO:tensorflow:Saving checkpoints for 1002 into C:\\Users\\Steven\\AppData\\Local\\Temp\\tmp6h4oqe3u\\model.ckpt.\n",
      "INFO:tensorflow:Loss for final step: 18.201172.\n",
      "Time to train: 191.506737\n",
      "INFO:tensorflow:Calling model_fn.\n",
      "INFO:tensorflow:Done calling model_fn.\n",
      "INFO:tensorflow:Graph was finalized.\n",
      "INFO:tensorflow:Restoring parameters from C:\\Users\\Steven\\AppData\\Local\\Temp\\tmp6h4oqe3u\\model.ckpt-1002\n",
      "INFO:tensorflow:Running local_init_op.\n",
      "INFO:tensorflow:Done running local_init_op.\n",
      "Time to predict: 197.209643\n",
      "0.247\n"
     ]
    }
   ],
   "source": [
    "classifier=train_nn(train_f=evl_f,\n",
    "                    train_l=evl_l,\n",
    "                    pred_f=evl2_f,\n",
    "                    pred_l=evl2_l,\n",
    "                    batch_size=10,\n",
    "                    steps=1000,\n",
    "                    learning_rate=0.01,\n",
    "                    periods=3)"
   ]
  },
  {
   "cell_type": "code",
   "execution_count": 29,
   "metadata": {},
   "outputs": [
    {
     "name": "stdout",
     "output_type": "stream",
     "text": [
      "['dnn/hiddenlayer_0/bias', 'dnn/hiddenlayer_0/bias/t_0/Adagrad', 'dnn/hiddenlayer_0/kernel', 'dnn/hiddenlayer_0/kernel/t_0/Adagrad', 'dnn/hiddenlayer_1/bias', 'dnn/hiddenlayer_1/bias/t_0/Adagrad', 'dnn/hiddenlayer_1/kernel', 'dnn/hiddenlayer_1/kernel/t_0/Adagrad', 'dnn/logits/bias', 'dnn/logits/bias/t_0/Adagrad', 'dnn/logits/kernel', 'dnn/logits/kernel/t_0/Adagrad', 'global_step']\n"
     ]
    }
   ],
   "source": [
    "print(classifier.get_variable_names())"
   ]
  },
  {
   "cell_type": "code",
   "execution_count": 37,
   "metadata": {},
   "outputs": [
    {
     "name": "stdout",
     "output_type": "stream",
     "text": [
      "weights0 shape: (784, 10)\n"
     ]
    },
    {
     "data": {
      "image/png": "[encoded data removed]",
      "text/plain": [
       "<Figure size 1440x144 with 10 Axes>"
      ]
     },
     "metadata": {},
     "output_type": "display_data"
    }
   ],
   "source": [
    "weights0 = classifier.get_variable_value(\"dnn/hiddenlayer_0/kernel\")\n",
    "\n",
    "print(\"weights0 shape:\", weights0.shape)\n",
    "\n",
    "num_nodes = weights0.shape[1]\n",
    "num_rows = int(math.ceil(num_nodes / 10.0))\n",
    "fig, axes = plt.subplots(num_rows, 10, figsize=(20, 2 * num_rows))\n",
    "for coef, ax in zip(weights0.T, axes.ravel()):\n",
    "    # Weights in coef is reshaped from 1x784 to 28x28.\n",
    "    ax.matshow(coef.reshape(28, 28), cmap=plt.cm.pink)\n",
    "    ax.set_xticks(())\n",
    "    ax.set_yticks(())\n",
    "plt.show()"
   ]
  },
  {
   "cell_type": "code",
   "execution_count": null,
   "metadata": {},
   "outputs": [],
   "source": []
  }
 ],
 "metadata": {
  "kernelspec": {
   "display_name": "py36",
   "language": "python",
   "name": "py36"
  },
  "language_info": {
   "codemirror_mode": {
    "name": "ipython",
    "version": 3
   },
   "file_extension": ".py",
   "mimetype": "text/x-python",
   "name": "python",
   "nbconvert_exporter": "python",
   "pygments_lexer": "ipython3",
   "version": "3.6.5"
  }
 },
 "nbformat": 4,
 "nbformat_minor": 2
}
