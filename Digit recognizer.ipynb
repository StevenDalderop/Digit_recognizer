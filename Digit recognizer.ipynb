{
 "cells": [
  {
   "cell_type": "markdown",
   "metadata": {},
   "source": [
    "# Digit recognizer"
   ]
  },
  {
   "cell_type": "code",
   "execution_count": 1,
   "metadata": {},
   "outputs": [],
   "source": [
    "### Importing libraries\n",
    "from matplotlib import pyplot as plt\n",
    "import numpy as np\n",
    "import pandas as pd\n",
    "import seaborn as sns\n",
    "from sklearn import metrics\n",
    "import tensorflow as tf\n",
    "from time import time\n",
    "tf.logging.set_verbosity(tf.logging.INFO) # DEBUG,WARN,INFO,FATAL,ERROR\n",
    "\n",
    "pd.options.display.max_rows = 10\n",
    "pd.options.display.float_format = '{:.1f}'.format"
   ]
  },
  {
   "cell_type": "code",
   "execution_count": 2,
   "metadata": {},
   "outputs": [],
   "source": [
    "### Importing MNIST dataset\n",
    "train=pd.read_csv(\"train.csv\")\n",
    "train=train.astype(float)\n",
    "test=pd.read_csv(\"test.csv\")\n",
    "test=test.astype(float)"
   ]
  },
  {
   "cell_type": "code",
   "execution_count": 29,
   "metadata": {},
   "outputs": [
    {
     "data": {
      "text/html": [
       "<div>\n",
       "<style scoped>\n",
       "    .dataframe tbody tr th:only-of-type {\n",
       "        vertical-align: middle;\n",
       "    }\n",
       "\n",
       "    .dataframe tbody tr th {\n",
       "        vertical-align: top;\n",
       "    }\n",
       "\n",
       "    .dataframe thead th {\n",
       "        text-align: right;\n",
       "    }\n",
       "</style>\n",
       "<table border=\"1\" class=\"dataframe\">\n",
       "  <thead>\n",
       "    <tr style=\"text-align: right;\">\n",
       "      <th></th>\n",
       "      <th>label</th>\n",
       "      <th>pixel0</th>\n",
       "      <th>pixel1</th>\n",
       "      <th>pixel2</th>\n",
       "      <th>pixel3</th>\n",
       "      <th>pixel4</th>\n",
       "      <th>pixel5</th>\n",
       "      <th>pixel6</th>\n",
       "      <th>pixel7</th>\n",
       "      <th>pixel8</th>\n",
       "      <th>...</th>\n",
       "      <th>pixel774</th>\n",
       "      <th>pixel775</th>\n",
       "      <th>pixel776</th>\n",
       "      <th>pixel777</th>\n",
       "      <th>pixel778</th>\n",
       "      <th>pixel779</th>\n",
       "      <th>pixel780</th>\n",
       "      <th>pixel781</th>\n",
       "      <th>pixel782</th>\n",
       "      <th>pixel783</th>\n",
       "    </tr>\n",
       "  </thead>\n",
       "  <tbody>\n",
       "    <tr>\n",
       "      <th>count</th>\n",
       "      <td>42000.0</td>\n",
       "      <td>42000.0</td>\n",
       "      <td>42000.0</td>\n",
       "      <td>42000.0</td>\n",
       "      <td>42000.0</td>\n",
       "      <td>42000.0</td>\n",
       "      <td>42000.0</td>\n",
       "      <td>42000.0</td>\n",
       "      <td>42000.0</td>\n",
       "      <td>42000.0</td>\n",
       "      <td>...</td>\n",
       "      <td>42000.0</td>\n",
       "      <td>42000.0</td>\n",
       "      <td>42000.0</td>\n",
       "      <td>42000.0</td>\n",
       "      <td>42000.0</td>\n",
       "      <td>42000.0</td>\n",
       "      <td>42000.0</td>\n",
       "      <td>42000.0</td>\n",
       "      <td>42000.0</td>\n",
       "      <td>42000.0</td>\n",
       "    </tr>\n",
       "    <tr>\n",
       "      <th>mean</th>\n",
       "      <td>4.5</td>\n",
       "      <td>0.0</td>\n",
       "      <td>0.0</td>\n",
       "      <td>0.0</td>\n",
       "      <td>0.0</td>\n",
       "      <td>0.0</td>\n",
       "      <td>0.0</td>\n",
       "      <td>0.0</td>\n",
       "      <td>0.0</td>\n",
       "      <td>0.0</td>\n",
       "      <td>...</td>\n",
       "      <td>0.2</td>\n",
       "      <td>0.1</td>\n",
       "      <td>0.1</td>\n",
       "      <td>0.0</td>\n",
       "      <td>0.0</td>\n",
       "      <td>0.0</td>\n",
       "      <td>0.0</td>\n",
       "      <td>0.0</td>\n",
       "      <td>0.0</td>\n",
       "      <td>0.0</td>\n",
       "    </tr>\n",
       "    <tr>\n",
       "      <th>std</th>\n",
       "      <td>2.9</td>\n",
       "      <td>0.0</td>\n",
       "      <td>0.0</td>\n",
       "      <td>0.0</td>\n",
       "      <td>0.0</td>\n",
       "      <td>0.0</td>\n",
       "      <td>0.0</td>\n",
       "      <td>0.0</td>\n",
       "      <td>0.0</td>\n",
       "      <td>0.0</td>\n",
       "      <td>...</td>\n",
       "      <td>6.3</td>\n",
       "      <td>4.6</td>\n",
       "      <td>3.3</td>\n",
       "      <td>1.8</td>\n",
       "      <td>1.9</td>\n",
       "      <td>0.4</td>\n",
       "      <td>0.0</td>\n",
       "      <td>0.0</td>\n",
       "      <td>0.0</td>\n",
       "      <td>0.0</td>\n",
       "    </tr>\n",
       "    <tr>\n",
       "      <th>min</th>\n",
       "      <td>0.0</td>\n",
       "      <td>0.0</td>\n",
       "      <td>0.0</td>\n",
       "      <td>0.0</td>\n",
       "      <td>0.0</td>\n",
       "      <td>0.0</td>\n",
       "      <td>0.0</td>\n",
       "      <td>0.0</td>\n",
       "      <td>0.0</td>\n",
       "      <td>0.0</td>\n",
       "      <td>...</td>\n",
       "      <td>0.0</td>\n",
       "      <td>0.0</td>\n",
       "      <td>0.0</td>\n",
       "      <td>0.0</td>\n",
       "      <td>0.0</td>\n",
       "      <td>0.0</td>\n",
       "      <td>0.0</td>\n",
       "      <td>0.0</td>\n",
       "      <td>0.0</td>\n",
       "      <td>0.0</td>\n",
       "    </tr>\n",
       "    <tr>\n",
       "      <th>25%</th>\n",
       "      <td>2.0</td>\n",
       "      <td>0.0</td>\n",
       "      <td>0.0</td>\n",
       "      <td>0.0</td>\n",
       "      <td>0.0</td>\n",
       "      <td>0.0</td>\n",
       "      <td>0.0</td>\n",
       "      <td>0.0</td>\n",
       "      <td>0.0</td>\n",
       "      <td>0.0</td>\n",
       "      <td>...</td>\n",
       "      <td>0.0</td>\n",
       "      <td>0.0</td>\n",
       "      <td>0.0</td>\n",
       "      <td>0.0</td>\n",
       "      <td>0.0</td>\n",
       "      <td>0.0</td>\n",
       "      <td>0.0</td>\n",
       "      <td>0.0</td>\n",
       "      <td>0.0</td>\n",
       "      <td>0.0</td>\n",
       "    </tr>\n",
       "    <tr>\n",
       "      <th>50%</th>\n",
       "      <td>4.0</td>\n",
       "      <td>0.0</td>\n",
       "      <td>0.0</td>\n",
       "      <td>0.0</td>\n",
       "      <td>0.0</td>\n",
       "      <td>0.0</td>\n",
       "      <td>0.0</td>\n",
       "      <td>0.0</td>\n",
       "      <td>0.0</td>\n",
       "      <td>0.0</td>\n",
       "      <td>...</td>\n",
       "      <td>0.0</td>\n",
       "      <td>0.0</td>\n",
       "      <td>0.0</td>\n",
       "      <td>0.0</td>\n",
       "      <td>0.0</td>\n",
       "      <td>0.0</td>\n",
       "      <td>0.0</td>\n",
       "      <td>0.0</td>\n",
       "      <td>0.0</td>\n",
       "      <td>0.0</td>\n",
       "    </tr>\n",
       "    <tr>\n",
       "      <th>75%</th>\n",
       "      <td>7.0</td>\n",
       "      <td>0.0</td>\n",
       "      <td>0.0</td>\n",
       "      <td>0.0</td>\n",
       "      <td>0.0</td>\n",
       "      <td>0.0</td>\n",
       "      <td>0.0</td>\n",
       "      <td>0.0</td>\n",
       "      <td>0.0</td>\n",
       "      <td>0.0</td>\n",
       "      <td>...</td>\n",
       "      <td>0.0</td>\n",
       "      <td>0.0</td>\n",
       "      <td>0.0</td>\n",
       "      <td>0.0</td>\n",
       "      <td>0.0</td>\n",
       "      <td>0.0</td>\n",
       "      <td>0.0</td>\n",
       "      <td>0.0</td>\n",
       "      <td>0.0</td>\n",
       "      <td>0.0</td>\n",
       "    </tr>\n",
       "    <tr>\n",
       "      <th>max</th>\n",
       "      <td>9.0</td>\n",
       "      <td>0.0</td>\n",
       "      <td>0.0</td>\n",
       "      <td>0.0</td>\n",
       "      <td>0.0</td>\n",
       "      <td>0.0</td>\n",
       "      <td>0.0</td>\n",
       "      <td>0.0</td>\n",
       "      <td>0.0</td>\n",
       "      <td>0.0</td>\n",
       "      <td>...</td>\n",
       "      <td>254.0</td>\n",
       "      <td>254.0</td>\n",
       "      <td>253.0</td>\n",
       "      <td>253.0</td>\n",
       "      <td>254.0</td>\n",
       "      <td>62.0</td>\n",
       "      <td>0.0</td>\n",
       "      <td>0.0</td>\n",
       "      <td>0.0</td>\n",
       "      <td>0.0</td>\n",
       "    </tr>\n",
       "  </tbody>\n",
       "</table>\n",
       "<p>8 rows × 785 columns</p>\n",
       "</div>"
      ],
      "text/plain": [
       "        label  pixel0  pixel1  pixel2  pixel3  pixel4  pixel5  pixel6  pixel7  \\\n",
       "count 42000.0 42000.0 42000.0 42000.0 42000.0 42000.0 42000.0 42000.0 42000.0   \n",
       "mean      4.5     0.0     0.0     0.0     0.0     0.0     0.0     0.0     0.0   \n",
       "std       2.9     0.0     0.0     0.0     0.0     0.0     0.0     0.0     0.0   \n",
       "min       0.0     0.0     0.0     0.0     0.0     0.0     0.0     0.0     0.0   \n",
       "25%       2.0     0.0     0.0     0.0     0.0     0.0     0.0     0.0     0.0   \n",
       "50%       4.0     0.0     0.0     0.0     0.0     0.0     0.0     0.0     0.0   \n",
       "75%       7.0     0.0     0.0     0.0     0.0     0.0     0.0     0.0     0.0   \n",
       "max       9.0     0.0     0.0     0.0     0.0     0.0     0.0     0.0     0.0   \n",
       "\n",
       "       pixel8    ...     pixel774  pixel775  pixel776  pixel777  pixel778  \\\n",
       "count 42000.0    ...      42000.0   42000.0   42000.0   42000.0   42000.0   \n",
       "mean      0.0    ...          0.2       0.1       0.1       0.0       0.0   \n",
       "std       0.0    ...          6.3       4.6       3.3       1.8       1.9   \n",
       "min       0.0    ...          0.0       0.0       0.0       0.0       0.0   \n",
       "25%       0.0    ...          0.0       0.0       0.0       0.0       0.0   \n",
       "50%       0.0    ...          0.0       0.0       0.0       0.0       0.0   \n",
       "75%       0.0    ...          0.0       0.0       0.0       0.0       0.0   \n",
       "max       0.0    ...        254.0     254.0     253.0     253.0     254.0   \n",
       "\n",
       "       pixel779  pixel780  pixel781  pixel782  pixel783  \n",
       "count   42000.0   42000.0   42000.0   42000.0   42000.0  \n",
       "mean        0.0       0.0       0.0       0.0       0.0  \n",
       "std         0.4       0.0       0.0       0.0       0.0  \n",
       "min         0.0       0.0       0.0       0.0       0.0  \n",
       "25%         0.0       0.0       0.0       0.0       0.0  \n",
       "50%         0.0       0.0       0.0       0.0       0.0  \n",
       "75%         0.0       0.0       0.0       0.0       0.0  \n",
       "max        62.0       0.0       0.0       0.0       0.0  \n",
       "\n",
       "[8 rows x 785 columns]"
      ]
     },
     "execution_count": 29,
     "metadata": {},
     "output_type": "execute_result"
    }
   ],
   "source": [
    "train.describe()"
   ]
  },
  {
   "cell_type": "code",
   "execution_count": 84,
   "metadata": {},
   "outputs": [],
   "source": [
    "### Splitting the training data\n",
    "evl=train.iloc[:5000,:]\n",
    "evl2=train.iloc[37000:,:]\n",
    "\n",
    "### Splitting labels and features\n",
    "evl_l=evl[\"label\"].astype(int)\n",
    "evl_f=evl.iloc[:,1:]\n",
    "\n",
    "evl2_l=evl2[\"label\"].astype(int)\n",
    "evl2_f=evl2.iloc[:,1:]"
   ]
  },
  {
   "cell_type": "code",
   "execution_count": 4,
   "metadata": {},
   "outputs": [
    {
     "data": {
      "image/png": "[encoded data removed]",
      "text/plain": [
       "<Figure size 432x288 with 1 Axes>"
      ]
     },
     "metadata": {},
     "output_type": "display_data"
    }
   ],
   "source": [
    "### Showing random example\n",
    "random=np.random.randint(len(evl_f)-1)\n",
    "_, ax = plt.subplots()\n",
    "ax.matshow(evl_f.iloc[random,:].values.reshape(28, 28))\n",
    "ax.grid(False)"
   ]
  },
  {
   "cell_type": "markdown",
   "metadata": {},
   "source": [
    "### Convolutional neural network"
   ]
  },
  {
   "cell_type": "code",
   "execution_count": 5,
   "metadata": {},
   "outputs": [],
   "source": [
    "def create_training_input_fn(features2,labels2,batch_size,epochs=None):\n",
    "    def _input_fn():\n",
    "        idx=np.random.permutation(features2.index.values)\n",
    "        features=features2.reindex(idx)\n",
    "        features={\"pixels\":features}\n",
    "        labels=np.array(labels2[idx])\n",
    "        ds=tf.data.Dataset.from_tensor_slices((features,labels))\n",
    "        ds=ds.batch(batch_size).repeat(epochs)\n",
    "        ds=ds.shuffle(40000)\n",
    "        \n",
    "        feature_batch,label_batch=ds.make_one_shot_iterator().get_next()\n",
    "        return feature_batch,label_batch\n",
    "    return _input_fn"
   ]
  },
  {
   "cell_type": "code",
   "execution_count": 6,
   "metadata": {},
   "outputs": [],
   "source": [
    "def create_predict_input_fn(features2,labels2,batch_size):\n",
    "    def _input_fn():\n",
    "        features={\"pixels\":features2}\n",
    "        labels=np.array(labels2)\n",
    "        \n",
    "        ds=tf.data.Dataset.from_tensor_slices((features,labels))\n",
    "        ds=ds.batch(batch_size)\n",
    "        \n",
    "        feature_batch,label_batch=ds.make_one_shot_iterator().get_next()\n",
    "        return feature_batch,label_batch\n",
    "    return _input_fn"
   ]
  },
  {
   "cell_type": "code",
   "execution_count": 7,
   "metadata": {},
   "outputs": [],
   "source": [
    "feature_column=[tf.feature_column.numeric_column(key=\"pixels\",shape=[784])]"
   ]
  },
  {
   "cell_type": "code",
   "execution_count": 10,
   "metadata": {},
   "outputs": [],
   "source": [
    "def my_model(features,labels,mode):\n",
    "    input_layer= tf.reshape(features[\"pixels\"], [-1, 28, 28, 1])\n",
    "    conv1=tf.layers.conv2d(inputs=input_layer,filters=32,kernel_size=(5,5),padding=\"same\",activation=tf.nn.relu)\n",
    "    pool1 = tf.layers.max_pooling2d(inputs=conv1, pool_size=[2, 2], strides=2)\n",
    "    conv2 = tf.layers.conv2d(inputs=pool1,filters=64,kernel_size=[5, 5],padding=\"same\",activation=tf.nn.relu)\n",
    "    pool2 = tf.layers.max_pooling2d(inputs=conv2, pool_size=[2, 2], strides=2)\n",
    "    pool2_flat = tf.reshape(pool2, [-1, 7 * 7 * 64])\n",
    "    dense = tf.layers.dense(inputs=pool2_flat, units=1024, activation=tf.nn.relu)\n",
    "    dropout = tf.layers.dropout(inputs=dense, rate=0.4, training=mode == tf.estimator.ModeKeys.TRAIN)\n",
    "    logits = tf.layers.dense(inputs=dropout, units=10)\n",
    "    predicted_classes = tf.argmax(logits, 1)  \n",
    "    \n",
    "    predictions = {\n",
    "            'class_ids': predicted_classes[:, tf.newaxis],\n",
    "            'probabilities': tf.nn.softmax(logits, name=\"softmax_tensor\"),\n",
    "            'logits': logits\n",
    "    }\n",
    "    \n",
    "    if mode == tf.estimator.ModeKeys.PREDICT:\n",
    "        return tf.estimator.EstimatorSpec(mode=mode, predictions=predictions)\n",
    "    \n",
    "    loss = tf.losses.sparse_softmax_cross_entropy(labels=labels, logits=logits)\n",
    "    \n",
    "    if mode == tf.estimator.ModeKeys.TRAIN:\n",
    "        optimizer = tf.train.GradientDescentOptimizer(learning_rate=0.001)\n",
    "        train_op = optimizer.minimize(loss=loss,global_step=tf.train.get_global_step())\n",
    "        logging_hook=tf.train.LoggingTensorHook(tensors={\"classes\":predicted_classes},every_n_iter=1000)\n",
    "        return tf.estimator.EstimatorSpec(mode=mode, loss=loss, train_op=train_op,training_hooks=[logging_hook]) \n",
    "    \n",
    "    eval_metric_ops = {\n",
    "        \"accuracy\": tf.metrics.accuracy(labels=labels, predictions=predictions[\"class_ids\"])\n",
    "    }   \n",
    "    return tf.estimator.EstimatorSpec(mode=mode, loss=loss, eval_metric_ops=eval_metric_ops)"
   ]
  },
  {
   "cell_type": "code",
   "execution_count": 82,
   "metadata": {},
   "outputs": [],
   "source": []
  },
  {
   "cell_type": "code",
   "execution_count": 83,
   "metadata": {},
   "outputs": [],
   "source": [
    "def train_model(train_f,train_l,evl_f,evl_l,batch_size,steps,parts):\n",
    "    config=tf.estimator.RunConfig(save_summary_steps=100000,keep_checkpoint_max=1)\n",
    "    \n",
    "    clf=tf.estimator.Estimator(model_fn=my_model,model_dir=\"C:\\Python27\\Digit_recognizer\\Log2\",config=config)\n",
    "    \n",
    "    for p in range(parts):\n",
    "        start=p*len(train_f)/parts\n",
    "        end=(p+1)*len(train_f)/parts\n",
    "        print(\"Training on part %i of %i parts\" %(p+1,parts))\n",
    "        train_f_p=train_f.iloc[int(start):int(end),:]\n",
    "        train_l_p=train_l.iloc[int(start):int(end)]\n",
    "    \n",
    "        train_input_fn=create_training_input_fn(features2=train_f_p,labels2=train_l_p,batch_size=batch_size)\n",
    "        clf.train(input_fn=train_input_fn,steps=steps)\n",
    "    \n",
    "        evl_input_fn=create_predict_input_fn(features2=evl_f,labels2=evl_l,batch_size=1)\n",
    "        print(\"Evaluation after training on data till %i\" %(end))\n",
    "        clf.evaluate(input_fn=evl_input_fn)\n",
    "\n",
    "    return clf"
   ]
  },
  {
   "cell_type": "code",
   "execution_count": 85,
   "metadata": {},
   "outputs": [
    {
     "name": "stdout",
     "output_type": "stream",
     "text": [
      "INFO:tensorflow:Using config: {'_model_dir': 'C:\\\\Python27\\\\Digit_recognizer\\\\Log2', '_tf_random_seed': None, '_save_summary_steps': 100000, '_save_checkpoints_steps': None, '_save_checkpoints_secs': 600, '_session_config': None, '_keep_checkpoint_max': 1, '_keep_checkpoint_every_n_hours': 10000, '_log_step_count_steps': 100, '_train_distribute': None, '_service': None, '_cluster_spec': <tensorflow.python.training.server_lib.ClusterSpec object at 0x0000014F912B8908>, '_task_type': 'worker', '_task_id': 0, '_global_id_in_cluster': 0, '_master': '', '_evaluation_master': '', '_is_chief': True, '_num_ps_replicas': 0, '_num_worker_replicas': 1}\n",
      "Training on part 1 of 4 parts\n",
      "INFO:tensorflow:Calling model_fn.\n",
      "INFO:tensorflow:Done calling model_fn.\n",
      "INFO:tensorflow:Create CheckpointSaverHook.\n",
      "INFO:tensorflow:Graph was finalized.\n",
      "INFO:tensorflow:Running local_init_op.\n",
      "INFO:tensorflow:Done running local_init_op.\n",
      "INFO:tensorflow:Saving checkpoints for 1 into C:\\Python27\\Digit_recognizer\\Log2\\model.ckpt.\n",
      "INFO:tensorflow:loss = 34.53728485107422, step = 1\n",
      "INFO:tensorflow:classes = [0 0 0 7 6]\n",
      "INFO:tensorflow:global_step/sec: 9.49183\n",
      "INFO:tensorflow:loss = 0.32493090629577637, step = 101 (10.551 sec)\n",
      "INFO:tensorflow:global_step/sec: 12.497\n",
      "INFO:tensorflow:loss = 0.46561795473098755, step = 201 (7.939 sec)\n",
      "INFO:tensorflow:global_step/sec: 12.7335\n",
      "INFO:tensorflow:loss = 0.5990802049636841, step = 301 (7.839 sec)\n",
      "INFO:tensorflow:global_step/sec: 13.4174\n",
      "INFO:tensorflow:loss = 0.050351791083812714, step = 401 (7.452 sec)\n",
      "INFO:tensorflow:global_step/sec: 12.5697\n",
      "INFO:tensorflow:loss = 0.04248758405447006, step = 501 (7.958 sec)\n",
      "INFO:tensorflow:global_step/sec: 12.7202\n",
      "INFO:tensorflow:loss = 0.2926296293735504, step = 601 (7.860 sec)\n",
      "INFO:tensorflow:global_step/sec: 13.2723\n",
      "INFO:tensorflow:loss = 0.4869409501552582, step = 701 (7.535 sec)\n",
      "INFO:tensorflow:global_step/sec: 13.3006\n",
      "INFO:tensorflow:loss = 0.18211206793785095, step = 801 (7.570 sec)\n",
      "INFO:tensorflow:global_step/sec: 12.9811\n",
      "INFO:tensorflow:loss = 0.7799853682518005, step = 901 (7.652 sec)\n",
      "INFO:tensorflow:global_step/sec: 12.0072\n",
      "INFO:tensorflow:loss = 0.029500916600227356, step = 1001 (8.469 sec)\n",
      "INFO:tensorflow:classes = [5 0 4 5 5] (80.746 sec)\n",
      "INFO:tensorflow:global_step/sec: 12.8484\n",
      "INFO:tensorflow:loss = 0.016659516841173172, step = 1101 (7.642 sec)\n",
      "INFO:tensorflow:global_step/sec: 12.7517\n",
      "INFO:tensorflow:loss = 0.002411102643236518, step = 1201 (7.842 sec)\n",
      "INFO:tensorflow:global_step/sec: 13.2749\n",
      "INFO:tensorflow:loss = 0.06768883764743805, step = 1301 (7.533 sec)\n",
      "INFO:tensorflow:global_step/sec: 12.3336\n",
      "INFO:tensorflow:loss = 0.008738653734326363, step = 1401 (8.108 sec)\n",
      "INFO:tensorflow:global_step/sec: 12.2832\n",
      "INFO:tensorflow:loss = 0.004975376185029745, step = 1501 (8.157 sec)\n",
      "INFO:tensorflow:global_step/sec: 12.2866\n",
      "INFO:tensorflow:loss = 0.004115914460271597, step = 1601 (8.123 sec)\n",
      "INFO:tensorflow:global_step/sec: 11.9162\n",
      "INFO:tensorflow:loss = 0.03988261520862579, step = 1701 (8.392 sec)\n",
      "INFO:tensorflow:global_step/sec: 13.1767\n",
      "INFO:tensorflow:loss = 0.3285178542137146, step = 1801 (7.589 sec)\n",
      "INFO:tensorflow:global_step/sec: 12.6725\n",
      "INFO:tensorflow:loss = 0.020498083904385567, step = 1901 (7.893 sec)\n",
      "INFO:tensorflow:global_step/sec: 12.7011\n",
      "INFO:tensorflow:loss = 0.00767438393086195, step = 2001 (7.872 sec)\n",
      "INFO:tensorflow:classes = [4 2 4 7 4] (79.153 sec)\n",
      "INFO:tensorflow:global_step/sec: 11.8773\n",
      "INFO:tensorflow:loss = 0.0156923346221447, step = 2101 (8.420 sec)\n",
      "INFO:tensorflow:global_step/sec: 12.4788\n",
      "INFO:tensorflow:loss = 0.0024700681678950787, step = 2201 (8.013 sec)\n",
      "INFO:tensorflow:global_step/sec: 12.0232\n",
      "INFO:tensorflow:loss = 0.042120348662137985, step = 2301 (8.318 sec)\n",
      "INFO:tensorflow:global_step/sec: 12.0217\n",
      "INFO:tensorflow:loss = 0.27028653025627136, step = 2401 (8.318 sec)\n",
      "INFO:tensorflow:global_step/sec: 11.8325\n",
      "INFO:tensorflow:loss = 0.0006007582996971905, step = 2501 (8.652 sec)\n",
      "INFO:tensorflow:global_step/sec: 11.8544\n",
      "INFO:tensorflow:loss = 0.004516651853919029, step = 2601 (8.233 sec)\n",
      "INFO:tensorflow:global_step/sec: 12.415\n",
      "INFO:tensorflow:loss = 0.002129840198904276, step = 2701 (8.055 sec)\n",
      "INFO:tensorflow:global_step/sec: 12.651\n",
      "INFO:tensorflow:loss = 0.00010030264093074948, step = 2801 (7.905 sec)\n",
      "INFO:tensorflow:global_step/sec: 11.7178\n",
      "INFO:tensorflow:loss = 0.00015226969844661653, step = 2901 (8.536 sec)\n",
      "INFO:tensorflow:Saving checkpoints for 3000 into C:\\Python27\\Digit_recognizer\\Log2\\model.ckpt.\n",
      "INFO:tensorflow:Loss for final step: 0.001765723922289908.\n",
      "Evaluation after training on data till 1250\n",
      "INFO:tensorflow:Calling model_fn.\n",
      "INFO:tensorflow:Done calling model_fn.\n",
      "INFO:tensorflow:Starting evaluation at 2018-07-24-12:42:30\n",
      "INFO:tensorflow:Graph was finalized.\n",
      "INFO:tensorflow:Restoring parameters from C:\\Python27\\Digit_recognizer\\Log2\\model.ckpt-3000\n",
      "INFO:tensorflow:Running local_init_op.\n",
      "INFO:tensorflow:Done running local_init_op.\n",
      "INFO:tensorflow:Finished evaluation at 2018-07-24-12:43:08\n",
      "INFO:tensorflow:Saving dict for global step 3000: accuracy = 0.9444, global_step = 3000, loss = 0.2071415\n",
      "Training on part 2 of 4 parts\n",
      "INFO:tensorflow:Calling model_fn.\n",
      "INFO:tensorflow:Done calling model_fn.\n",
      "INFO:tensorflow:Create CheckpointSaverHook.\n",
      "INFO:tensorflow:Graph was finalized.\n",
      "INFO:tensorflow:Restoring parameters from C:\\Python27\\Digit_recognizer\\Log2\\model.ckpt-3000\n",
      "INFO:tensorflow:Running local_init_op.\n",
      "INFO:tensorflow:Done running local_init_op.\n",
      "INFO:tensorflow:Saving checkpoints for 3001 into C:\\Python27\\Digit_recognizer\\Log2\\model.ckpt.\n",
      "INFO:tensorflow:loss = 0.05090963840484619, step = 3001\n",
      "INFO:tensorflow:classes = [6 3 5 5 3]\n",
      "INFO:tensorflow:global_step/sec: 7.81876\n",
      "INFO:tensorflow:loss = 0.0019487061072140932, step = 3101 (12.696 sec)\n",
      "INFO:tensorflow:global_step/sec: 10.682\n",
      "INFO:tensorflow:loss = 0.10969310998916626, step = 3201 (9.330 sec)\n",
      "INFO:tensorflow:global_step/sec: 11.2666\n",
      "INFO:tensorflow:loss = 0.0030505519825965166, step = 3301 (8.878 sec)\n",
      "INFO:tensorflow:global_step/sec: 11.5903\n",
      "INFO:tensorflow:loss = 9.737808431964368e-05, step = 3401 (8.626 sec)\n",
      "INFO:tensorflow:global_step/sec: 11.4361\n",
      "INFO:tensorflow:loss = 0.019243989139795303, step = 3501 (8.744 sec)\n",
      "INFO:tensorflow:global_step/sec: 12.4262\n",
      "INFO:tensorflow:loss = 0.001439903979189694, step = 3601 (8.051 sec)\n",
      "INFO:tensorflow:global_step/sec: 12.3952\n",
      "INFO:tensorflow:loss = 0.0004952135495841503, step = 3701 (8.065 sec)\n",
      "INFO:tensorflow:global_step/sec: 12.2405\n",
      "INFO:tensorflow:loss = 0.011140355840325356, step = 3801 (8.357 sec)\n",
      "INFO:tensorflow:global_step/sec: 12.1369\n",
      "INFO:tensorflow:loss = 0.10950757563114166, step = 3901 (8.052 sec)\n",
      "INFO:tensorflow:global_step/sec: 10.9674\n",
      "INFO:tensorflow:loss = 0.010675915516912937, step = 4001 (9.118 sec)\n",
      "INFO:tensorflow:classes = [0 0 3 3 4] (89.885 sec)\n",
      "INFO:tensorflow:global_step/sec: 12.168\n",
      "INFO:tensorflow:loss = 0.0013240327825769782, step = 4101 (8.218 sec)\n",
      "INFO:tensorflow:global_step/sec: 10.5118\n",
      "INFO:tensorflow:loss = 0.00010055871825898066, step = 4201 (9.515 sec)\n",
      "INFO:tensorflow:global_step/sec: 11.7583\n",
      "INFO:tensorflow:loss = 0.00041746231727302074, step = 4301 (8.503 sec)\n",
      "INFO:tensorflow:global_step/sec: 12.0115\n",
      "INFO:tensorflow:loss = 0.0019108376000076532, step = 4401 (8.325 sec)\n",
      "INFO:tensorflow:global_step/sec: 12.3299\n",
      "INFO:tensorflow:loss = 0.07810570299625397, step = 4501 (8.110 sec)\n",
      "INFO:tensorflow:global_step/sec: 12.4499\n",
      "INFO:tensorflow:loss = 0.034370675683021545, step = 4601 (8.032 sec)\n",
      "INFO:tensorflow:global_step/sec: 12.0963\n",
      "INFO:tensorflow:loss = 0.0003581104683689773, step = 4701 (8.267 sec)\n",
      "INFO:tensorflow:global_step/sec: 11.7001\n",
      "INFO:tensorflow:loss = 0.010526560246944427, step = 4801 (8.549 sec)\n",
      "INFO:tensorflow:global_step/sec: 11.8454\n",
      "INFO:tensorflow:loss = 0.0009025897015817463, step = 4901 (8.440 sec)\n",
      "INFO:tensorflow:global_step/sec: 11.5259\n",
      "INFO:tensorflow:loss = 0.00017447219579480588, step = 5001 (8.676 sec)\n",
      "INFO:tensorflow:classes = [7 1 0 3 9] (84.636 sec)\n",
      "INFO:tensorflow:global_step/sec: 10.6857\n",
      "INFO:tensorflow:loss = 0.006420166231691837, step = 5101 (9.358 sec)\n",
      "INFO:tensorflow:global_step/sec: 11.6666\n",
      "INFO:tensorflow:loss = 6.599356129299849e-05, step = 5201 (8.571 sec)\n",
      "INFO:tensorflow:global_step/sec: 10.6626\n"
     ]
    },
    {
     "name": "stdout",
     "output_type": "stream",
     "text": [
      "INFO:tensorflow:loss = 0.031095881015062332, step = 5301 (9.713 sec)\n",
      "INFO:tensorflow:global_step/sec: 11.337\n",
      "INFO:tensorflow:loss = 0.0012397861573845148, step = 5401 (8.486 sec)\n",
      "INFO:tensorflow:global_step/sec: 11.5794\n",
      "INFO:tensorflow:loss = 0.0014158820267766714, step = 5501 (8.636 sec)\n",
      "INFO:tensorflow:global_step/sec: 11.2749\n",
      "INFO:tensorflow:loss = 1.4379074855241925e-05, step = 5601 (8.869 sec)\n",
      "INFO:tensorflow:global_step/sec: 11.7297\n",
      "INFO:tensorflow:loss = 0.013083669357001781, step = 5701 (8.541 sec)\n",
      "INFO:tensorflow:global_step/sec: 11.6844\n",
      "INFO:tensorflow:loss = 0.0015347771113738418, step = 5801 (8.543 sec)\n",
      "INFO:tensorflow:global_step/sec: 11.4422\n",
      "INFO:tensorflow:loss = 0.0004143808037042618, step = 5901 (8.740 sec)\n",
      "INFO:tensorflow:Saving checkpoints for 6000 into C:\\Python27\\Digit_recognizer\\Log2\\model.ckpt.\n",
      "INFO:tensorflow:Loss for final step: 7.031839777482674e-05.\n",
      "Evaluation after training on data till 2500\n",
      "INFO:tensorflow:Calling model_fn.\n",
      "INFO:tensorflow:Done calling model_fn.\n",
      "INFO:tensorflow:Starting evaluation at 2018-07-24-12:48:49\n",
      "INFO:tensorflow:Graph was finalized.\n",
      "INFO:tensorflow:Restoring parameters from C:\\Python27\\Digit_recognizer\\Log2\\model.ckpt-6000\n",
      "INFO:tensorflow:Running local_init_op.\n",
      "INFO:tensorflow:Done running local_init_op.\n",
      "INFO:tensorflow:Finished evaluation at 2018-07-24-12:49:26\n",
      "INFO:tensorflow:Saving dict for global step 6000: accuracy = 0.9596, global_step = 6000, loss = 0.1440927\n",
      "Training on part 3 of 4 parts\n",
      "INFO:tensorflow:Calling model_fn.\n",
      "INFO:tensorflow:Done calling model_fn.\n",
      "INFO:tensorflow:Create CheckpointSaverHook.\n",
      "INFO:tensorflow:Graph was finalized.\n",
      "INFO:tensorflow:Restoring parameters from C:\\Python27\\Digit_recognizer\\Log2\\model.ckpt-6000\n",
      "INFO:tensorflow:Running local_init_op.\n",
      "INFO:tensorflow:Done running local_init_op.\n",
      "INFO:tensorflow:Saving checkpoints for 6001 into C:\\Python27\\Digit_recognizer\\Log2\\model.ckpt.\n",
      "INFO:tensorflow:loss = 0.0026235843542963266, step = 6001\n",
      "INFO:tensorflow:classes = [1 0 1 0 7]\n",
      "INFO:tensorflow:global_step/sec: 10.464\n",
      "INFO:tensorflow:loss = 0.47826504707336426, step = 6101 (9.528 sec)\n",
      "INFO:tensorflow:global_step/sec: 12.9325\n",
      "INFO:tensorflow:loss = 0.02129032090306282, step = 6201 (7.685 sec)\n",
      "INFO:tensorflow:global_step/sec: 12.9577\n",
      "INFO:tensorflow:loss = 0.005319754593074322, step = 6301 (7.714 sec)\n",
      "INFO:tensorflow:global_step/sec: 12.9484\n",
      "INFO:tensorflow:loss = 0.0003741485415957868, step = 6401 (7.723 sec)\n",
      "INFO:tensorflow:global_step/sec: 12.8771\n",
      "INFO:tensorflow:loss = 0.000526861404068768, step = 6501 (7.766 sec)\n",
      "INFO:tensorflow:global_step/sec: 12.4494\n",
      "INFO:tensorflow:loss = 0.01382285077124834, step = 6601 (8.048 sec)\n",
      "INFO:tensorflow:global_step/sec: 12.4896\n",
      "INFO:tensorflow:loss = 0.046800948679447174, step = 6701 (8.007 sec)\n",
      "INFO:tensorflow:global_step/sec: 12.441\n",
      "INFO:tensorflow:loss = 0.00397249311208725, step = 6801 (8.022 sec)\n",
      "INFO:tensorflow:global_step/sec: 12.1651\n",
      "INFO:tensorflow:loss = 0.00044109876034781337, step = 6901 (8.220 sec)\n",
      "INFO:tensorflow:global_step/sec: 11.6155\n",
      "INFO:tensorflow:loss = 0.04990973323583603, step = 7001 (8.625 sec)\n",
      "INFO:tensorflow:classes = [8 0 9 7 4] (81.308 sec)\n",
      "INFO:tensorflow:global_step/sec: 12.3102\n",
      "INFO:tensorflow:loss = 0.13548627495765686, step = 7101 (8.108 sec)\n",
      "INFO:tensorflow:global_step/sec: 12.2394\n",
      "INFO:tensorflow:loss = 0.0041763633489608765, step = 7201 (8.389 sec)\n",
      "INFO:tensorflow:global_step/sec: 11.4637\n",
      "INFO:tensorflow:loss = 0.0047418526373803616, step = 7301 (8.520 sec)\n",
      "INFO:tensorflow:global_step/sec: 12.0745\n",
      "INFO:tensorflow:loss = 0.00010685290908440948, step = 7401 (8.266 sec)\n",
      "INFO:tensorflow:global_step/sec: 12.3314\n",
      "INFO:tensorflow:loss = 0.002334702294319868, step = 7501 (8.109 sec)\n",
      "INFO:tensorflow:global_step/sec: 12.1669\n",
      "INFO:tensorflow:loss = 0.0010205968283116817, step = 7601 (8.219 sec)\n",
      "INFO:tensorflow:global_step/sec: 12.0001\n",
      "INFO:tensorflow:loss = 0.007492557168006897, step = 7701 (8.333 sec)\n",
      "INFO:tensorflow:global_step/sec: 11.6883\n",
      "INFO:tensorflow:loss = 0.0006396707613021135, step = 7801 (8.556 sec)\n",
      "INFO:tensorflow:global_step/sec: 10.6661\n",
      "INFO:tensorflow:loss = 0.0011353621957823634, step = 7901 (9.378 sec)\n",
      "INFO:tensorflow:global_step/sec: 11.3907\n",
      "INFO:tensorflow:loss = 4.997552605345845e-05, step = 8001 (8.777 sec)\n",
      "INFO:tensorflow:classes = [8 5 3 2 8] (84.655 sec)\n",
      "INFO:tensorflow:global_step/sec: 11.3979\n",
      "INFO:tensorflow:loss = 0.00011935667134821415, step = 8101 (8.774 sec)\n",
      "INFO:tensorflow:global_step/sec: 10.5432\n",
      "INFO:tensorflow:loss = 5.249232708592899e-05, step = 8201 (9.487 sec)\n",
      "INFO:tensorflow:global_step/sec: 11.2547\n",
      "INFO:tensorflow:loss = 8.162471931427717e-05, step = 8301 (8.883 sec)\n",
      "INFO:tensorflow:global_step/sec: 11.3738\n",
      "INFO:tensorflow:loss = 0.0018860010895878077, step = 8401 (8.808 sec)\n",
      "INFO:tensorflow:global_step/sec: 11.7126\n",
      "INFO:tensorflow:loss = 0.0007006503874436021, step = 8501 (8.538 sec)\n",
      "INFO:tensorflow:global_step/sec: 11.8143\n",
      "INFO:tensorflow:loss = 0.001597906113602221, step = 8601 (8.700 sec)\n",
      "INFO:tensorflow:global_step/sec: 11.3235\n",
      "INFO:tensorflow:loss = 4.7104655095608905e-05, step = 8701 (8.582 sec)\n",
      "INFO:tensorflow:global_step/sec: 11.6238\n",
      "INFO:tensorflow:loss = 6.903865141794086e-05, step = 8801 (8.604 sec)\n",
      "INFO:tensorflow:global_step/sec: 11.4667\n",
      "INFO:tensorflow:loss = 0.000697039533406496, step = 8901 (8.720 sec)\n",
      "INFO:tensorflow:Saving checkpoints for 9000 into C:\\Python27\\Digit_recognizer\\Log2\\model.ckpt.\n",
      "INFO:tensorflow:Loss for final step: 0.025197237730026245.\n",
      "Evaluation after training on data till 3750\n",
      "INFO:tensorflow:Calling model_fn.\n",
      "INFO:tensorflow:Done calling model_fn.\n",
      "INFO:tensorflow:Starting evaluation at 2018-07-24-12:54:33\n",
      "INFO:tensorflow:Graph was finalized.\n",
      "INFO:tensorflow:Restoring parameters from C:\\Python27\\Digit_recognizer\\Log2\\model.ckpt-9000\n",
      "INFO:tensorflow:Running local_init_op.\n",
      "INFO:tensorflow:Done running local_init_op.\n",
      "INFO:tensorflow:Finished evaluation at 2018-07-24-12:55:17\n",
      "INFO:tensorflow:Saving dict for global step 9000: accuracy = 0.9688, global_step = 9000, loss = 0.12509373\n",
      "Training on part 4 of 4 parts\n",
      "INFO:tensorflow:Calling model_fn.\n",
      "INFO:tensorflow:Done calling model_fn.\n",
      "INFO:tensorflow:Create CheckpointSaverHook.\n",
      "INFO:tensorflow:Graph was finalized.\n",
      "INFO:tensorflow:Restoring parameters from C:\\Python27\\Digit_recognizer\\Log2\\model.ckpt-9000\n",
      "INFO:tensorflow:Running local_init_op.\n",
      "INFO:tensorflow:Done running local_init_op.\n",
      "INFO:tensorflow:Saving checkpoints for 9001 into C:\\Python27\\Digit_recognizer\\Log2\\model.ckpt.\n",
      "INFO:tensorflow:loss = 3.474549885140732e-05, step = 9001\n",
      "INFO:tensorflow:classes = [4 9 2 0 6]\n",
      "INFO:tensorflow:global_step/sec: 5.99075\n",
      "INFO:tensorflow:loss = 0.0020552368368953466, step = 9101 (17.148 sec)\n",
      "INFO:tensorflow:global_step/sec: 9.08969\n",
      "INFO:tensorflow:loss = 0.0005119899869896472, step = 9201 (10.043 sec)\n",
      "INFO:tensorflow:global_step/sec: 9.2691\n",
      "INFO:tensorflow:loss = 0.0008137519471347332, step = 9301 (10.789 sec)\n",
      "INFO:tensorflow:global_step/sec: 9.38411\n",
      "INFO:tensorflow:loss = 0.0009411158971488476, step = 9401 (10.656 sec)\n",
      "INFO:tensorflow:global_step/sec: 9.82795\n",
      "INFO:tensorflow:loss = 0.013671648688614368, step = 9501 (10.175 sec)\n",
      "INFO:tensorflow:global_step/sec: 12.029\n",
      "INFO:tensorflow:loss = 0.0027105617336928844, step = 9601 (8.313 sec)\n",
      "INFO:tensorflow:global_step/sec: 12.2694\n",
      "INFO:tensorflow:loss = 0.0008845010888762772, step = 9701 (8.150 sec)\n",
      "INFO:tensorflow:global_step/sec: 11.4382\n",
      "INFO:tensorflow:loss = 4.5539389248006046e-05, step = 9801 (8.743 sec)\n",
      "INFO:tensorflow:global_step/sec: 11.8246\n",
      "INFO:tensorflow:loss = 0.004330347757786512, step = 9901 (8.457 sec)\n",
      "INFO:tensorflow:global_step/sec: 10.6421\n",
      "INFO:tensorflow:loss = 0.014561380259692669, step = 10001 (9.399 sec)\n",
      "INFO:tensorflow:classes = [2 3 3 1 9] (101.772 sec)\n",
      "INFO:tensorflow:global_step/sec: 11.0669\n",
      "INFO:tensorflow:loss = 0.04826571047306061, step = 10101 (9.034 sec)\n",
      "INFO:tensorflow:global_step/sec: 9.23969\n",
      "INFO:tensorflow:loss = 0.001299248542636633, step = 10201 (11.589 sec)\n",
      "INFO:tensorflow:global_step/sec: 8.91968\n",
      "INFO:tensorflow:loss = 5.65482878300827e-06, step = 10301 (10.448 sec)\n",
      "INFO:tensorflow:global_step/sec: 8.35199\n",
      "INFO:tensorflow:loss = 0.00026275598793290555, step = 10401 (11.973 sec)\n",
      "INFO:tensorflow:global_step/sec: 8.45051\n"
     ]
    },
    {
     "name": "stdout",
     "output_type": "stream",
     "text": [
      "INFO:tensorflow:loss = 0.00043812417425215244, step = 10501 (11.834 sec)\n",
      "INFO:tensorflow:global_step/sec: 5.31653\n",
      "INFO:tensorflow:loss = 0.003654558677226305, step = 10601 (18.809 sec)\n",
      "INFO:tensorflow:global_step/sec: 8.53071\n",
      "INFO:tensorflow:loss = 0.0007090111030265689, step = 10701 (11.722 sec)\n",
      "INFO:tensorflow:global_step/sec: 8.09352\n",
      "INFO:tensorflow:loss = 3.219191785319708e-05, step = 10801 (12.356 sec)\n",
      "INFO:tensorflow:global_step/sec: 9.09346\n",
      "INFO:tensorflow:loss = 0.00019864369824063033, step = 10901 (10.997 sec)\n",
      "INFO:tensorflow:global_step/sec: 7.93066\n",
      "INFO:tensorflow:loss = 0.0006858751294203103, step = 11001 (12.629 sec)\n",
      "INFO:tensorflow:classes = [8 1 7 4 0] (121.391 sec)\n",
      "INFO:tensorflow:global_step/sec: 8.58828\n",
      "INFO:tensorflow:loss = 0.0893000140786171, step = 11101 (11.626 sec)\n",
      "INFO:tensorflow:global_step/sec: 8.19696\n",
      "INFO:tensorflow:loss = 0.048006996512413025, step = 11201 (12.481 sec)\n",
      "INFO:tensorflow:global_step/sec: 8.10221\n",
      "INFO:tensorflow:loss = 0.001018830924294889, step = 11301 (12.058 sec)\n",
      "INFO:tensorflow:global_step/sec: 10.279\n",
      "INFO:tensorflow:loss = 0.0005182315362617373, step = 11401 (9.728 sec)\n",
      "INFO:tensorflow:global_step/sec: 8.91416\n",
      "INFO:tensorflow:loss = 5.2252464229241014e-05, step = 11501 (11.220 sec)\n",
      "INFO:tensorflow:global_step/sec: 8.61579\n",
      "INFO:tensorflow:loss = 5.288061947794631e-05, step = 11601 (11.605 sec)\n",
      "INFO:tensorflow:global_step/sec: 8.50348\n",
      "INFO:tensorflow:loss = 0.08875637501478195, step = 11701 (11.760 sec)\n",
      "INFO:tensorflow:global_step/sec: 9.18121\n",
      "INFO:tensorflow:loss = 2.3899879124655854e-06, step = 11801 (10.892 sec)\n",
      "INFO:tensorflow:global_step/sec: 8.076\n",
      "INFO:tensorflow:loss = 8.925399743020535e-05, step = 11901 (12.386 sec)\n",
      "INFO:tensorflow:Saving checkpoints for 12000 into C:\\Python27\\Digit_recognizer\\Log2\\model.ckpt.\n",
      "INFO:tensorflow:Loss for final step: 1.656532913330011e-05.\n",
      "Evaluation after training on data till 5000\n",
      "INFO:tensorflow:Calling model_fn.\n",
      "INFO:tensorflow:Done calling model_fn.\n",
      "INFO:tensorflow:Starting evaluation at 2018-07-24-13:03:09\n",
      "INFO:tensorflow:Graph was finalized.\n",
      "INFO:tensorflow:Restoring parameters from C:\\Python27\\Digit_recognizer\\Log2\\model.ckpt-12000\n",
      "INFO:tensorflow:Running local_init_op.\n",
      "INFO:tensorflow:Done running local_init_op.\n",
      "INFO:tensorflow:Finished evaluation at 2018-07-24-13:03:52\n",
      "INFO:tensorflow:Saving dict for global step 12000: accuracy = 0.9718, global_step = 12000, loss = 0.10718971\n"
     ]
    }
   ],
   "source": [
    "clf2=train_model(evl_f,evl_l,evl2_f,evl2_l,5,3000,4)"
   ]
  },
  {
   "cell_type": "code",
   "execution_count": 56,
   "metadata": {},
   "outputs": [
    {
     "name": "stdout",
     "output_type": "stream",
     "text": [
      "INFO:tensorflow:Calling model_fn.\n",
      "INFO:tensorflow:Done calling model_fn.\n",
      "INFO:tensorflow:Graph was finalized.\n",
      "INFO:tensorflow:Restoring parameters from C:\\Python27\\Digit_recognizer\\Log\\model.ckpt-5001\n",
      "INFO:tensorflow:Running local_init_op.\n",
      "INFO:tensorflow:Done running local_init_op.\n"
     ]
    }
   ],
   "source": [
    "predict_input_fn=create_predict_input_fn(test.iloc[:,:],test.iloc[:],1)\n",
    "pred=clf.predict(input_fn=predict_input_fn)\n",
    "outcome=[]\n",
    "for i in pred:\n",
    "    outcome.append(i[\"class_ids\"][0])\n",
    "outcome=np.array(outcome)"
   ]
  },
  {
   "cell_type": "code",
   "execution_count": 43,
   "metadata": {},
   "outputs": [],
   "source": [
    "sample=pd.read_csv(\"sample_submission.csv\")\n",
    "sample[\"Label\"]=outcome\n",
    "sample.to_csv(\"Submission.csv\",index=False)"
   ]
  },
  {
   "cell_type": "code",
   "execution_count": 31,
   "metadata": {},
   "outputs": [
    {
     "data": {
      "text/plain": [
       "['conv2d/bias',\n",
       " 'conv2d/kernel',\n",
       " 'conv2d_1/bias',\n",
       " 'conv2d_1/kernel',\n",
       " 'dense/bias',\n",
       " 'dense/kernel',\n",
       " 'dense_1/bias',\n",
       " 'dense_1/kernel',\n",
       " 'global_step']"
      ]
     },
     "execution_count": 31,
     "metadata": {},
     "output_type": "execute_result"
    }
   ],
   "source": [
    "clf2.get_variable_names()"
   ]
  },
  {
   "cell_type": "code",
   "execution_count": 37,
   "metadata": {},
   "outputs": [],
   "source": [
    "a=clf2.get_variable_value(\"dense/kernel\")"
   ]
  },
  {
   "cell_type": "code",
   "execution_count": 36,
   "metadata": {},
   "outputs": [],
   "source": [
    "from sys import getsizeof"
   ]
  },
  {
   "cell_type": "code",
   "execution_count": 45,
   "metadata": {},
   "outputs": [
    {
     "data": {
      "text/plain": [
       "32"
      ]
     },
     "execution_count": 45,
     "metadata": {},
     "output_type": "execute_result"
    }
   ],
   "source": [
    "getsizeof(a[0][0])"
   ]
  },
  {
   "cell_type": "code",
   "execution_count": 46,
   "metadata": {},
   "outputs": [
    {
     "data": {
      "text/plain": [
       "-0.000580821071791104"
      ]
     },
     "execution_count": 46,
     "metadata": {},
     "output_type": "execute_result"
    }
   ],
   "source": [
    "a[0][0]"
   ]
  },
  {
   "cell_type": "code",
   "execution_count": 57,
   "metadata": {},
   "outputs": [
    {
     "data": {
      "text/plain": [
       "25690112"
      ]
     },
     "execution_count": 57,
     "metadata": {},
     "output_type": "execute_result"
    }
   ],
   "source": [
    "a.nbytes"
   ]
  },
  {
   "cell_type": "code",
   "execution_count": 59,
   "metadata": {},
   "outputs": [
    {
     "data": {
      "text/plain": [
       "(3136, 1024)"
      ]
     },
     "execution_count": 59,
     "metadata": {},
     "output_type": "execute_result"
    }
   ],
   "source": [
    "a.shape"
   ]
  },
  {
   "cell_type": "code",
   "execution_count": 60,
   "metadata": {},
   "outputs": [
    {
     "data": {
      "text/plain": [
       "numpy.float64"
      ]
     },
     "execution_count": 60,
     "metadata": {},
     "output_type": "execute_result"
    }
   ],
   "source": [
    "type(a[0][0])"
   ]
  },
  {
   "cell_type": "code",
   "execution_count": 61,
   "metadata": {},
   "outputs": [
    {
     "data": {
      "text/plain": [
       "numpy.ndarray"
      ]
     },
     "execution_count": 61,
     "metadata": {},
     "output_type": "execute_result"
    }
   ],
   "source": [
    "type(a[1])"
   ]
  },
  {
   "cell_type": "code",
   "execution_count": 63,
   "metadata": {},
   "outputs": [
    {
     "data": {
      "text/plain": [
       "numpy.float64"
      ]
     },
     "execution_count": 63,
     "metadata": {},
     "output_type": "execute_result"
    }
   ],
   "source": [
    "type(a[1][1])"
   ]
  },
  {
   "cell_type": "code",
   "execution_count": 76,
   "metadata": {},
   "outputs": [
    {
     "data": {
      "text/plain": [
       "6280.0"
      ]
     },
     "execution_count": 76,
     "metadata": {},
     "output_type": "execute_result"
    }
   ],
   "source": [
    "np.array(train).nbytes/42000\n"
   ]
  },
  {
   "cell_type": "code",
   "execution_count": 66,
   "metadata": {},
   "outputs": [
    {
     "data": {
      "text/plain": [
       "(785,)"
      ]
     },
     "execution_count": 66,
     "metadata": {},
     "output_type": "execute_result"
    }
   ],
   "source": [
    "evl.iloc[0].shape"
   ]
  },
  {
   "cell_type": "code",
   "execution_count": 67,
   "metadata": {},
   "outputs": [
    {
     "data": {
      "text/plain": [
       "50240"
      ]
     },
     "execution_count": 67,
     "metadata": {},
     "output_type": "execute_result"
    }
   ],
   "source": [
    "785*64"
   ]
  },
  {
   "cell_type": "code",
   "execution_count": 68,
   "metadata": {},
   "outputs": [
    {
     "data": {
      "text/plain": [
       "label      4.0\n",
       "pixel0     0.0\n",
       "pixel1     0.0\n",
       "pixel2     0.0\n",
       "pixel3     0.0\n",
       "            ..\n",
       "pixel779   0.0\n",
       "pixel780   0.0\n",
       "pixel781   0.0\n",
       "pixel782   0.0\n",
       "pixel783   0.0\n",
       "Name: 29600, Length: 785, dtype: float64"
      ]
     },
     "execution_count": 68,
     "metadata": {},
     "output_type": "execute_result"
    }
   ],
   "source": [
    "evl.iloc[0]"
   ]
  },
  {
   "cell_type": "code",
   "execution_count": null,
   "metadata": {},
   "outputs": [],
   "source": []
  }
 ],
 "metadata": {
  "kernelspec": {
   "display_name": "py36",
   "language": "python",
   "name": "py36"
  },
  "language_info": {
   "codemirror_mode": {
    "name": "ipython",
    "version": 3
   },
   "file_extension": ".py",
   "mimetype": "text/x-python",
   "name": "python",
   "nbconvert_exporter": "python",
   "pygments_lexer": "ipython3",
   "version": "3.6.5"
  }
 },
 "nbformat": 4,
 "nbformat_minor": 2
}
