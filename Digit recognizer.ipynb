{
 "cells": [
  {
   "cell_type": "markdown",
   "metadata": {},
   "source": [
    "# Digit recognizer"
   ]
  },
  {
   "cell_type": "code",
   "execution_count": 38,
   "metadata": {},
   "outputs": [],
   "source": [
    "### Importing libraries\n",
    "from matplotlib import pyplot as plt\n",
    "import numpy as np\n",
    "import pandas as pd\n",
    "import seaborn as sns\n",
    "from sklearn import metrics\n",
    "import tensorflow as tf\n",
    "from time import time\n",
    "tf.logging.set_verbosity(tf.logging.INFO) # DEBUG,WARN,INFO,FATAL,ERROR\n",
    "\n",
    "pd.options.display.max_rows = 10\n",
    "pd.options.display.float_format = '{:.1f}'.format"
   ]
  },
  {
   "cell_type": "code",
   "execution_count": 39,
   "metadata": {},
   "outputs": [],
   "source": [
    "### Importing MNIST dataset\n",
    "train=pd.read_csv(\"train.csv\")\n",
    "test=pd.read_csv(\"test.csv\")"
   ]
  },
  {
   "cell_type": "code",
   "execution_count": 40,
   "metadata": {},
   "outputs": [],
   "source": [
    "### Splitting the training data\n",
    "evl=train.iloc[0:100,:]\n",
    "evl2=train.iloc[100:200,:]\n",
    "\n",
    "### Splitting labels and features\n",
    "evl_l=evl[\"label\"]\n",
    "evl_f=evl.iloc[:,1:]\n",
    "\n",
    "evl2_l=evl2[\"label\"]\n",
    "evl2_f=evl2.iloc[:,1:]"
   ]
  },
  {
   "cell_type": "code",
   "execution_count": 60,
   "metadata": {},
   "outputs": [],
   "source": [
    "evl_f=evl_f.astype(float)"
   ]
  },
  {
   "cell_type": "code",
   "execution_count": 61,
   "metadata": {},
   "outputs": [
    {
     "name": "stdout",
     "output_type": "stream",
     "text": [
      "<class 'pandas.core.frame.DataFrame'>\n",
      "RangeIndex: 100 entries, 0 to 99\n",
      "Columns: 784 entries, pixel0 to pixel783\n",
      "dtypes: float64(784)\n",
      "memory usage: 612.6 KB\n"
     ]
    }
   ],
   "source": [
    "evl_f.info()"
   ]
  },
  {
   "cell_type": "code",
   "execution_count": 41,
   "metadata": {},
   "outputs": [
    {
     "data": {
      "image/png": "[encoded data removed]",
      "text/plain": [
       "<Figure size 432x288 with 1 Axes>"
      ]
     },
     "metadata": {},
     "output_type": "display_data"
    }
   ],
   "source": [
    "### Showing random example\n",
    "random=np.random.randint(len(evl_f)-1)\n",
    "_, ax = plt.subplots()\n",
    "ax.matshow(evl_f.iloc[random,:].values.reshape(28, 28))\n",
    "ax.grid(False)"
   ]
  },
  {
   "cell_type": "markdown",
   "metadata": {},
   "source": [
    "### Convolutional neural network"
   ]
  },
  {
   "cell_type": "code",
   "execution_count": 44,
   "metadata": {},
   "outputs": [],
   "source": [
    "feature_column=[tf.feature_column.numeric_column(key=\"pixels\",shape=[784])]"
   ]
  },
  {
   "cell_type": "code",
   "execution_count": 45,
   "metadata": {},
   "outputs": [],
   "source": [
    "def my_model(features,labels,mode):\n",
    "    input_layer= tf.reshape(features[\"pixels\"], [-1, 28, 28, 1])\n",
    "    conv1=tf.layers.conv2d(inputs=input_layer,filters=32,kernel_size=(5,5),padding=\"same\",activation=tf.nn.relu)\n",
    "    pool1 = tf.layers.max_pooling2d(inputs=conv1, pool_size=[2, 2], strides=2)\n",
    "    conv2 = tf.layers.conv2d(inputs=pool1,filters=64,kernel_size=[5, 5],padding=\"same\",activation=tf.nn.relu)\n",
    "    pool2 = tf.layers.max_pooling2d(inputs=conv2, pool_size=[2, 2], strides=2)\n",
    "    pool2_flat = tf.reshape(pool2, [-1, 7 * 7 * 64])\n",
    "    dense = tf.layers.dense(inputs=pool2_flat, units=1024, activation=tf.nn.relu)\n",
    "    dropout = tf.layers.dropout(inputs=dense, rate=0.4, training=mode == tf.estimator.ModeKeys.TRAIN)\n",
    "    logits = tf.layers.dense(inputs=dropout, units=10)\n",
    "    predicted_classes = tf.argmax(logits, 1)\n",
    "    \n",
    "    if mode == tf.estimator.ModeKeys.PREDICT:\n",
    "        predictions = {\n",
    "            'class_ids': predicted_classes[:, tf.newaxis],\n",
    "            'probabilities': tf.nn.softmax(logits),\n",
    "            'logits': logits,\n",
    "        }\n",
    "        return tf.estimator.EstimatorSpec(mode, predictions=predictions)\n",
    "    \n",
    "    loss = tf.losses.sparse_softmax_cross_entropy(labels=labels, logits=logits)\n",
    "    \n",
    "    if mode == tf.estimator.ModeKeys.TRAIN:\n",
    "        optimizer = tf.train.GradientDescentOptimizer(learning_rate=0.001)\n",
    "        train_op = optimizer.minimize(loss=loss,global_step=tf.train.get_global_step())\n",
    "        return tf.estimator.EstimatorSpec(mode=mode, loss=loss, train_op=train_op)\n",
    "    \n",
    "    eval_metric_ops = {\n",
    "        \"accuracy\": tf.metrics.accuracy(\n",
    "        labels=labels, predictions=predictions[\"classes\"])\n",
    "    }\n",
    "    return tf.estimator.EstimatorSpec(mode=mode, loss=loss, eval_metric_ops=eval_metric_ops)"
   ]
  },
  {
   "cell_type": "code",
   "execution_count": 46,
   "metadata": {},
   "outputs": [
    {
     "name": "stdout",
     "output_type": "stream",
     "text": [
      "INFO:tensorflow:Using default config.\n",
      "WARNING:tensorflow:Using temporary folder as model directory: C:\\Users\\Steven\\AppData\\Local\\Temp\\tmpb8oszovh\n",
      "INFO:tensorflow:Using config: {'_model_dir': 'C:\\\\Users\\\\Steven\\\\AppData\\\\Local\\\\Temp\\\\tmpb8oszovh', '_tf_random_seed': None, '_save_summary_steps': 100, '_save_checkpoints_steps': None, '_save_checkpoints_secs': 600, '_session_config': None, '_keep_checkpoint_max': 5, '_keep_checkpoint_every_n_hours': 10000, '_log_step_count_steps': 100, '_train_distribute': None, '_service': None, '_cluster_spec': <tensorflow.python.training.server_lib.ClusterSpec object at 0x000002D1D0A61B38>, '_task_type': 'worker', '_task_id': 0, '_global_id_in_cluster': 0, '_master': '', '_evaluation_master': '', '_is_chief': True, '_num_ps_replicas': 0, '_num_worker_replicas': 1}\n"
     ]
    }
   ],
   "source": [
    "clf=tf.estimator.Estimator(model_fn=my_model)"
   ]
  },
  {
   "cell_type": "code",
   "execution_count": null,
   "metadata": {},
   "outputs": [
    {
     "name": "stdout",
     "output_type": "stream",
     "text": [
      "INFO:tensorflow:Calling model_fn.\n",
      "INFO:tensorflow:Done calling model_fn.\n",
      "INFO:tensorflow:Create CheckpointSaverHook.\n",
      "INFO:tensorflow:Graph was finalized.\n",
      "INFO:tensorflow:Running local_init_op.\n",
      "INFO:tensorflow:Done running local_init_op.\n",
      "INFO:tensorflow:Saving checkpoints for 1 into C:\\Users\\Steven\\AppData\\Local\\Temp\\tmpb8oszovh\\model.ckpt.\n",
      "INFO:tensorflow:loss = 55.81854248046875, step = 1\n",
      "INFO:tensorflow:global_step/sec: 7.16278\n",
      "INFO:tensorflow:loss = 0.13095982372760773, step = 101 (14.003 sec)\n",
      "INFO:tensorflow:global_step/sec: 7.96898\n",
      "INFO:tensorflow:loss = 0.1987166702747345, step = 201 (12.476 sec)\n",
      "INFO:tensorflow:global_step/sec: 7.33449\n",
      "INFO:tensorflow:loss = 0.20852252840995789, step = 301 (13.650 sec)\n",
      "INFO:tensorflow:global_step/sec: 7.32648\n",
      "INFO:tensorflow:loss = 0.00639746431261301, step = 401 (13.649 sec)\n",
      "INFO:tensorflow:global_step/sec: 7.35211\n",
      "INFO:tensorflow:loss = 0.000987363513559103, step = 501 (13.602 sec)\n",
      "INFO:tensorflow:global_step/sec: 8.44342\n",
      "INFO:tensorflow:loss = 0.0014640276785939932, step = 601 (11.828 sec)\n",
      "INFO:tensorflow:global_step/sec: 6.81962\n",
      "INFO:tensorflow:loss = 0.012509721331298351, step = 701 (14.992 sec)\n",
      "INFO:tensorflow:global_step/sec: 7.25591\n",
      "INFO:tensorflow:loss = 0.01396284718066454, step = 801 (13.469 sec)\n",
      "INFO:tensorflow:global_step/sec: 7.02602\n",
      "INFO:tensorflow:loss = 0.00028059998294338584, step = 901 (14.217 sec)\n",
      "INFO:tensorflow:global_step/sec: 7.29046\n",
      "INFO:tensorflow:loss = 0.00025384718901477754, step = 1001 (13.729 sec)\n",
      "INFO:tensorflow:global_step/sec: 8.11682\n",
      "INFO:tensorflow:loss = 0.002624638844281435, step = 1101 (12.308 sec)\n",
      "INFO:tensorflow:global_step/sec: 7.66955\n",
      "INFO:tensorflow:loss = 0.0002430198946967721, step = 1201 (13.039 sec)\n",
      "INFO:tensorflow:global_step/sec: 7.14564\n",
      "INFO:tensorflow:loss = 4.6285378630273044e-05, step = 1301 (14.003 sec)\n",
      "INFO:tensorflow:global_step/sec: 6.97585\n",
      "INFO:tensorflow:loss = 0.008549765683710575, step = 1401 (14.327 sec)\n",
      "INFO:tensorflow:global_step/sec: 7.55179\n",
      "INFO:tensorflow:loss = 0.00018243968952447176, step = 1501 (13.242 sec)\n",
      "INFO:tensorflow:global_step/sec: 8.1736\n",
      "INFO:tensorflow:loss = 0.0013695821398869157, step = 1601 (12.328 sec)\n",
      "INFO:tensorflow:global_step/sec: 7.96261\n",
      "INFO:tensorflow:loss = 0.001306978054344654, step = 1701 (12.481 sec)\n",
      "INFO:tensorflow:global_step/sec: 6.45358\n",
      "INFO:tensorflow:loss = 0.0004237405373714864, step = 1801 (15.495 sec)\n",
      "INFO:tensorflow:global_step/sec: 6.54569\n",
      "INFO:tensorflow:loss = 0.0002800932852551341, step = 1901 (15.262 sec)\n",
      "INFO:tensorflow:global_step/sec: 7.6339\n",
      "INFO:tensorflow:loss = 0.014324921183288097, step = 2001 (13.099 sec)\n",
      "INFO:tensorflow:global_step/sec: 7.21022\n",
      "INFO:tensorflow:loss = 0.0002140216965926811, step = 2101 (13.869 sec)\n",
      "INFO:tensorflow:global_step/sec: 7.6221\n",
      "INFO:tensorflow:loss = 0.00031192100141197443, step = 2201 (13.125 sec)\n",
      "INFO:tensorflow:global_step/sec: 7.19855\n",
      "INFO:tensorflow:loss = 0.0009730951860547066, step = 2301 (13.887 sec)\n",
      "INFO:tensorflow:global_step/sec: 7.0186\n",
      "INFO:tensorflow:loss = 0.006268045864999294, step = 2401 (14.248 sec)\n",
      "INFO:tensorflow:global_step/sec: 7.90921\n",
      "INFO:tensorflow:loss = 0.0005528352339752018, step = 2501 (12.706 sec)\n",
      "INFO:tensorflow:global_step/sec: 6.69023\n",
      "INFO:tensorflow:loss = 0.00030071736546233296, step = 2601 (14.885 sec)\n",
      "INFO:tensorflow:global_step/sec: 7.53016\n",
      "INFO:tensorflow:loss = 0.0006791615742258728, step = 2701 (13.280 sec)\n",
      "INFO:tensorflow:global_step/sec: 7.15163\n",
      "INFO:tensorflow:loss = 0.00015432316286023706, step = 2801 (13.983 sec)\n",
      "INFO:tensorflow:global_step/sec: 6.9571\n",
      "INFO:tensorflow:loss = 6.47885535727255e-05, step = 2901 (14.374 sec)\n",
      "INFO:tensorflow:global_step/sec: 7.11649\n",
      "INFO:tensorflow:loss = 0.00018110114615410566, step = 3001 (14.067 sec)\n",
      "INFO:tensorflow:global_step/sec: 7.24377\n",
      "INFO:tensorflow:loss = 0.021382678300142288, step = 3101 (13.789 sec)\n"
     ]
    }
   ],
   "source": [
    "clf.train(input_fn=create_training_input_fn(features2=evl_f,labels2=evl_l,batch_size=5))"
   ]
  },
  {
   "cell_type": "markdown",
   "metadata": {},
   "source": [
    "### Linear classifier"
   ]
  },
  {
   "cell_type": "code",
   "execution_count": 6,
   "metadata": {},
   "outputs": [],
   "source": [
    "def create_training_input_fn(features2,labels2,batch_size,epochs=None):\n",
    "    def _input_fn():\n",
    "        idx=np.random.permutation(features2.index.values)\n",
    "        features=features2.reindex(idx)\n",
    "        features={\"pixels\":features}\n",
    "        labels=np.array(labels2[idx])\n",
    "        ds=tf.data.Dataset.from_tensor_slices((features,labels))\n",
    "        ds=ds.batch(batch_size).repeat(epochs)\n",
    "        ds=ds.shuffle(40000)\n",
    "        \n",
    "        feature_batch,label_batch=ds.make_one_shot_iterator().get_next()\n",
    "        return feature_batch,label_batch\n",
    "    return _input_fn"
   ]
  },
  {
   "cell_type": "code",
   "execution_count": 7,
   "metadata": {},
   "outputs": [],
   "source": [
    "def create_predict_input_fn(features2,labels2,batch_size):\n",
    "    def _input_fn():\n",
    "        features={\"pixels\":features2}\n",
    "        labels=np.array(labels2)\n",
    "        \n",
    "        ds=tf.data.Dataset.from_tensor_slices((features,labels))\n",
    "        ds=ds.batch(batch_size)\n",
    "        \n",
    "        feature_batch,label_batch=ds.make_one_shot_iterator().get_next()\n",
    "        return feature_batch,label_batch\n",
    "    return _input_fn"
   ]
  },
  {
   "cell_type": "code",
   "execution_count": 8,
   "metadata": {},
   "outputs": [],
   "source": [
    "def train_linear_classifier(train_f,train_l,pred_f,pred_l,batch_size,steps,learning_rate,periods):\n",
    "    training_input_fn=create_training_input_fn(train_f,train_l,batch_size=batch_size)\n",
    "    predict_input_fn=create_predict_input_fn(evl2_f,evl2_l,batch_size=1)\n",
    "    a=time()\n",
    "    optimizer=tf.train.AdagradOptimizer(learning_rate=learning_rate)\n",
    "    classifier=tf.estimator.LinearClassifier(feature_columns=construct_feature_columns(), \n",
    "                                         n_classes=10, \n",
    "                                         optimizer=optimizer,\n",
    "                                         config=tf.estimator.RunConfig(keep_checkpoint_max=1))\n",
    "    steps_per=steps/periods\n",
    "    print(\"Time to create classifier: %f\" % (time()-a))\n",
    "    for i in range(periods):\n",
    "        classifier.train(input_fn=training_input_fn,steps=steps_per)\n",
    "        print(\"Time to train: %f\" %(time()-a))\n",
    "        pred=classifier.predict(input_fn=predict_input_fn)\n",
    "        pred2=np.array([item[\"class_ids\"][0] for item in pred])\n",
    "        print(\"Time to predict: %f\" %(time()-a))\n",
    "        \n",
    "        print(metrics.accuracy_score(np.array(evl2_l),pred2))\n",
    "    \n",
    "    return classifier"
   ]
  },
  {
   "cell_type": "code",
   "execution_count": 11,
   "metadata": {
    "scrolled": true
   },
   "outputs": [
    {
     "name": "stdout",
     "output_type": "stream",
     "text": [
      "WARNING:tensorflow:Using temporary folder as model directory: C:\\Users\\Steven\\AppData\\Local\\Temp\\tmpkvradeen\n",
      "INFO:tensorflow:Using config: {'_model_dir': 'C:\\\\Users\\\\Steven\\\\AppData\\\\Local\\\\Temp\\\\tmpkvradeen', '_tf_random_seed': None, '_save_summary_steps': 100, '_save_checkpoints_steps': None, '_save_checkpoints_secs': 600, '_session_config': None, '_keep_checkpoint_max': 1, '_keep_checkpoint_every_n_hours': 10000, '_log_step_count_steps': 100, '_train_distribute': None, '_service': None, '_cluster_spec': <tensorflow.python.training.server_lib.ClusterSpec object at 0x000002D1D0E79DD8>, '_task_type': 'worker', '_task_id': 0, '_global_id_in_cluster': 0, '_master': '', '_evaluation_master': '', '_is_chief': True, '_num_ps_replicas': 0, '_num_worker_replicas': 1}\n",
      "Time to create classifier: 0.062502\n",
      "INFO:tensorflow:Calling model_fn.\n",
      "INFO:tensorflow:Done calling model_fn.\n",
      "INFO:tensorflow:Create CheckpointSaverHook.\n",
      "INFO:tensorflow:Graph was finalized.\n",
      "INFO:tensorflow:Running local_init_op.\n",
      "INFO:tensorflow:Done running local_init_op.\n",
      "INFO:tensorflow:Saving checkpoints for 1 into C:\\Users\\Steven\\AppData\\Local\\Temp\\tmpkvradeen\\model.ckpt.\n",
      "INFO:tensorflow:loss = 69.07756, step = 1\n",
      "INFO:tensorflow:global_step/sec: 13.7118\n",
      "INFO:tensorflow:loss = 0.0, step = 101 (7.089 sec)\n",
      "INFO:tensorflow:Saving checkpoints for 125 into C:\\Users\\Steven\\AppData\\Local\\Temp\\tmpkvradeen\\model.ckpt.\n",
      "INFO:tensorflow:Loss for final step: 0.0.\n",
      "Time to train: 129.120966\n",
      "INFO:tensorflow:Calling model_fn.\n",
      "INFO:tensorflow:Done calling model_fn.\n",
      "INFO:tensorflow:Graph was finalized.\n",
      "INFO:tensorflow:Restoring parameters from C:\\Users\\Steven\\AppData\\Local\\Temp\\tmpkvradeen\\model.ckpt-125\n",
      "INFO:tensorflow:Running local_init_op.\n",
      "INFO:tensorflow:Done running local_init_op.\n",
      "Time to predict: 131.490713\n",
      "0.67\n",
      "INFO:tensorflow:Calling model_fn.\n",
      "INFO:tensorflow:Done calling model_fn.\n",
      "INFO:tensorflow:Create CheckpointSaverHook.\n",
      "INFO:tensorflow:Graph was finalized.\n",
      "INFO:tensorflow:Restoring parameters from C:\\Users\\Steven\\AppData\\Local\\Temp\\tmpkvradeen\\model.ckpt-125\n",
      "INFO:tensorflow:Running local_init_op.\n",
      "INFO:tensorflow:Done running local_init_op.\n",
      "INFO:tensorflow:Saving checkpoints for 126 into C:\\Users\\Steven\\AppData\\Local\\Temp\\tmpkvradeen\\model.ckpt.\n",
      "INFO:tensorflow:loss = 5.960463e-07, step = 126\n",
      "INFO:tensorflow:global_step/sec: 60.1162\n",
      "INFO:tensorflow:loss = 0.0, step = 226 (1.617 sec)\n",
      "INFO:tensorflow:Saving checkpoints for 250 into C:\\Users\\Steven\\AppData\\Local\\Temp\\tmpkvradeen\\model.ckpt.\n",
      "INFO:tensorflow:Loss for final step: 5.960463e-07.\n",
      "Time to train: 213.815580\n",
      "INFO:tensorflow:Calling model_fn.\n",
      "INFO:tensorflow:Done calling model_fn.\n",
      "INFO:tensorflow:Graph was finalized.\n",
      "INFO:tensorflow:Restoring parameters from C:\\Users\\Steven\\AppData\\Local\\Temp\\tmpkvradeen\\model.ckpt-250\n",
      "INFO:tensorflow:Running local_init_op.\n",
      "INFO:tensorflow:Done running local_init_op.\n",
      "Time to predict: 215.742321\n",
      "0.67\n",
      "INFO:tensorflow:Calling model_fn.\n",
      "INFO:tensorflow:Done calling model_fn.\n",
      "INFO:tensorflow:Create CheckpointSaverHook.\n",
      "INFO:tensorflow:Graph was finalized.\n",
      "INFO:tensorflow:Restoring parameters from C:\\Users\\Steven\\AppData\\Local\\Temp\\tmpkvradeen\\model.ckpt-250\n",
      "INFO:tensorflow:Running local_init_op.\n",
      "INFO:tensorflow:Done running local_init_op.\n",
      "INFO:tensorflow:Saving checkpoints for 251 into C:\\Users\\Steven\\AppData\\Local\\Temp\\tmpkvradeen\\model.ckpt.\n",
      "INFO:tensorflow:loss = 0.0, step = 251\n",
      "INFO:tensorflow:global_step/sec: 14.4327\n",
      "INFO:tensorflow:loss = 2.3841855e-07, step = 351 (6.429 sec)\n",
      "INFO:tensorflow:Saving checkpoints for 375 into C:\\Users\\Steven\\AppData\\Local\\Temp\\tmpkvradeen\\model.ckpt.\n",
      "INFO:tensorflow:Loss for final step: 2.3841855e-07.\n",
      "Time to train: 489.689594\n",
      "INFO:tensorflow:Calling model_fn.\n",
      "INFO:tensorflow:Done calling model_fn.\n",
      "INFO:tensorflow:Graph was finalized.\n",
      "INFO:tensorflow:Restoring parameters from C:\\Users\\Steven\\AppData\\Local\\Temp\\tmpkvradeen\\model.ckpt-375\n",
      "INFO:tensorflow:Running local_init_op.\n",
      "INFO:tensorflow:Done running local_init_op.\n",
      "Time to predict: 492.695255\n",
      "0.67\n",
      "INFO:tensorflow:Calling model_fn.\n",
      "INFO:tensorflow:Done calling model_fn.\n",
      "INFO:tensorflow:Create CheckpointSaverHook.\n",
      "INFO:tensorflow:Graph was finalized.\n",
      "INFO:tensorflow:Restoring parameters from C:\\Users\\Steven\\AppData\\Local\\Temp\\tmpkvradeen\\model.ckpt-375\n",
      "INFO:tensorflow:Running local_init_op.\n",
      "INFO:tensorflow:Done running local_init_op.\n",
      "INFO:tensorflow:Saving checkpoints for 376 into C:\\Users\\Steven\\AppData\\Local\\Temp\\tmpkvradeen\\model.ckpt.\n",
      "INFO:tensorflow:loss = 4.7683704e-07, step = 376\n",
      "INFO:tensorflow:global_step/sec: 20.2661\n",
      "INFO:tensorflow:loss = 4.7683704e-07, step = 476 (4.215 sec)\n",
      "INFO:tensorflow:Saving checkpoints for 500 into C:\\Users\\Steven\\AppData\\Local\\Temp\\tmpkvradeen\\model.ckpt.\n",
      "INFO:tensorflow:Loss for final step: 0.0.\n",
      "Time to train: 628.348981\n",
      "INFO:tensorflow:Calling model_fn.\n",
      "INFO:tensorflow:Done calling model_fn.\n",
      "INFO:tensorflow:Graph was finalized.\n",
      "INFO:tensorflow:Restoring parameters from C:\\Users\\Steven\\AppData\\Local\\Temp\\tmpkvradeen\\model.ckpt-500\n",
      "INFO:tensorflow:Running local_init_op.\n",
      "INFO:tensorflow:Done running local_init_op.\n",
      "Time to predict: 631.739933\n",
      "0.67\n"
     ]
    }
   ],
   "source": [
    "classifier=train_linear_classifier(train_f=evl_f,\n",
    "                                   train_l=evl_l,\n",
    "                                   pred_f=evl2_f,\n",
    "                                   pred_l=evl2_l,\n",
    "                                   batch_size=30,\n",
    "                                   steps=500,\n",
    "                                   learning_rate=0.01,\n",
    "                                   periods=4)"
   ]
  },
  {
   "cell_type": "code",
   "execution_count": null,
   "metadata": {},
   "outputs": [],
   "source": []
  }
 ],
 "metadata": {
  "kernelspec": {
   "display_name": "py36",
   "language": "python",
   "name": "py36"
  },
  "language_info": {
   "codemirror_mode": {
    "name": "ipython",
    "version": 3
   },
   "file_extension": ".py",
   "mimetype": "text/x-python",
   "name": "python",
   "nbconvert_exporter": "python",
   "pygments_lexer": "ipython3",
   "version": "3.6.5"
  }
 },
 "nbformat": 4,
 "nbformat_minor": 2
}
