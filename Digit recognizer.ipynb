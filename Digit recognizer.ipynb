{
 "cells": [
  {
   "cell_type": "markdown",
   "metadata": {},
   "source": [
    "# Digit recognizer"
   ]
  },
  {
   "cell_type": "code",
   "execution_count": 1,
   "metadata": {},
   "outputs": [],
   "source": [
    "### Importing libraries\n",
    "from matplotlib import pyplot as plt\n",
    "import numpy as np\n",
    "import pandas as pd\n",
    "import seaborn as sns\n",
    "from sklearn import metrics\n",
    "import tensorflow as tf\n",
    "from time import time\n",
    "tf.logging.set_verbosity(tf.logging.INFO) # DEBUG,WARN,INFO,FATAL,ERROR\n",
    "\n",
    "pd.options.display.max_rows = 10\n",
    "pd.options.display.float_format = '{:.1f}'.format"
   ]
  },
  {
   "cell_type": "code",
   "execution_count": 2,
   "metadata": {},
   "outputs": [],
   "source": [
    "### Importing MNIST dataset\n",
    "train=pd.read_csv(\"train.csv\")\n",
    "train=train.astype(float)\n",
    "test=pd.read_csv(\"test.csv\")\n",
    "test=test.astype(float)"
   ]
  },
  {
   "cell_type": "code",
   "execution_count": 64,
   "metadata": {},
   "outputs": [],
   "source": [
    "### Splitting the training data\n",
    "evl=train.iloc[:37000,:]\n",
    "evl2=train.iloc[37000:,:]\n",
    "\n",
    "### Splitting labels and features\n",
    "evl_l=evl[\"label\"].astype(int)\n",
    "evl_f=evl.iloc[:,1:]\n",
    "\n",
    "evl2_l=evl2[\"label\"].astype(int)\n",
    "evl2_f=evl2.iloc[:,1:]"
   ]
  },
  {
   "cell_type": "code",
   "execution_count": 4,
   "metadata": {},
   "outputs": [
    {
     "data": {
      "image/png": "[encoded data removed]",
      "text/plain": [
       "<Figure size 432x288 with 1 Axes>"
      ]
     },
     "metadata": {},
     "output_type": "display_data"
    }
   ],
   "source": [
    "### Showing random example\n",
    "random=np.random.randint(len(evl_f)-1)\n",
    "_, ax = plt.subplots()\n",
    "ax.matshow(evl_f.iloc[random,:].values.reshape(28, 28))\n",
    "ax.grid(False)"
   ]
  },
  {
   "cell_type": "markdown",
   "metadata": {},
   "source": [
    "### Convolutional neural network"
   ]
  },
  {
   "cell_type": "code",
   "execution_count": 5,
   "metadata": {},
   "outputs": [],
   "source": [
    "def create_training_input_fn(features2,labels2,batch_size,epochs=None):\n",
    "    def _input_fn():\n",
    "        idx=np.random.permutation(features2.index.values)\n",
    "        features=features2.reindex(idx)\n",
    "        features={\"pixels\":features}\n",
    "        labels=np.array(labels2[idx])\n",
    "        ds=tf.data.Dataset.from_tensor_slices((features,labels))\n",
    "        ds=ds.batch(batch_size).repeat(epochs)\n",
    "        ds=ds.shuffle(40000)\n",
    "        \n",
    "        feature_batch,label_batch=ds.make_one_shot_iterator().get_next()\n",
    "        return feature_batch,label_batch\n",
    "    return _input_fn"
   ]
  },
  {
   "cell_type": "code",
   "execution_count": 48,
   "metadata": {},
   "outputs": [],
   "source": [
    "def create_predict_input_fn(features2,labels2,batch_size):\n",
    "    def _input_fn():\n",
    "        features={\"pixels\":features2}\n",
    "        labels=np.array(labels2)\n",
    "        \n",
    "        ds=tf.data.Dataset.from_tensor_slices((features,labels))\n",
    "        ds=ds.batch(batch_size)\n",
    "        \n",
    "        feature_batch,label_batch=ds.make_one_shot_iterator().get_next()\n",
    "        return feature_batch,label_batch\n",
    "    return _input_fn"
   ]
  },
  {
   "cell_type": "code",
   "execution_count": 7,
   "metadata": {},
   "outputs": [],
   "source": [
    "feature_column=[tf.feature_column.numeric_column(key=\"pixels\",shape=[784])]"
   ]
  },
  {
   "cell_type": "code",
   "execution_count": 8,
   "metadata": {},
   "outputs": [],
   "source": [
    "def my_model(features,labels,mode):\n",
    "    input_layer= tf.reshape(features[\"pixels\"], [-1, 28, 28, 1])\n",
    "    conv1=tf.layers.conv2d(inputs=input_layer,filters=32,kernel_size=(5,5),padding=\"same\",activation=tf.nn.relu)\n",
    "    pool1 = tf.layers.max_pooling2d(inputs=conv1, pool_size=[2, 2], strides=2)\n",
    "    conv2 = tf.layers.conv2d(inputs=pool1,filters=64,kernel_size=[5, 5],padding=\"same\",activation=tf.nn.relu)\n",
    "    pool2 = tf.layers.max_pooling2d(inputs=conv2, pool_size=[2, 2], strides=2)\n",
    "    pool2_flat = tf.reshape(pool2, [-1, 7 * 7 * 64])\n",
    "    dense = tf.layers.dense(inputs=pool2_flat, units=1024, activation=tf.nn.relu)\n",
    "    dropout = tf.layers.dropout(inputs=dense, rate=0.4, training=mode == tf.estimator.ModeKeys.TRAIN)\n",
    "    logits = tf.layers.dense(inputs=dropout, units=10)\n",
    "    predicted_classes = tf.argmax(logits, 1)  \n",
    "    \n",
    "    predictions = {\n",
    "            'class_ids': predicted_classes[:, tf.newaxis],\n",
    "            'probabilities': tf.nn.softmax(logits, name=\"softmax_tensor\"),\n",
    "            'logits': logits\n",
    "    }\n",
    "    \n",
    "    if mode == tf.estimator.ModeKeys.PREDICT:\n",
    "        return tf.estimator.EstimatorSpec(mode=mode, predictions=predictions)\n",
    "    \n",
    "    loss = tf.losses.sparse_softmax_cross_entropy(labels=labels, logits=logits)\n",
    "    \n",
    "    if mode == tf.estimator.ModeKeys.TRAIN:\n",
    "        optimizer = tf.train.GradientDescentOptimizer(learning_rate=0.001)\n",
    "        train_op = optimizer.minimize(loss=loss,global_step=tf.train.get_global_step())\n",
    "        logging_hook=tf.train.LoggingTensorHook(tensors={\"classes\":predicted_classes},every_n_iter=100)\n",
    "        return tf.estimator.EstimatorSpec(mode=mode, loss=loss, train_op=train_op,training_hooks=[logging_hook]) \n",
    "    \n",
    "    eval_metric_ops = {\n",
    "        \"accuracy\": tf.metrics.accuracy(labels=labels, predictions=predictions[\"class_ids\"])\n",
    "    }   \n",
    "    return tf.estimator.EstimatorSpec(mode=mode, loss=loss, eval_metric_ops=eval_metric_ops)"
   ]
  },
  {
   "cell_type": "code",
   "execution_count": 62,
   "metadata": {},
   "outputs": [],
   "source": [
    "def train_model(train_f,train_l,evl_f,evl_l,batch_size,steps,parts):\n",
    "    clf=tf.estimator.Estimator(model_fn=my_model,model_dir=\"C:\\Python27\\Digit_recognizer\\Log\")\n",
    "    \n",
    "    for p in range(parts):\n",
    "        start=p*len(train_f)/parts\n",
    "        end=(p+1)*len(train_f)/parts\n",
    "        print(\"Training on data %i till %i\" %(start,end))\n",
    "        train_f_p=train_f.iloc[int(start):int(end),:]\n",
    "        train_l_p=train_l.iloc[int(start):int(end)]\n",
    "    \n",
    "        train_input_fn=create_training_input_fn(features2=train_f_p,labels2=train_l_p,batch_size=batch_size)\n",
    "        clf.train(input_fn=train_input_fn,steps=steps)\n",
    "    \n",
    "        evl_input_fn=create_predict_input_fn(features2=evl_f,labels2=evl_l,batch_size=1)\n",
    "        print(\"Evaluation after training on data till %i\" %(end))\n",
    "        clf.evaluate(input_fn=evl_input_fn)\n",
    "\n",
    "    return clf"
   ]
  },
  {
   "cell_type": "code",
   "execution_count": 63,
   "metadata": {},
   "outputs": [
    {
     "name": "stdout",
     "output_type": "stream",
     "text": [
      "INFO:tensorflow:Using default config.\n",
      "INFO:tensorflow:Using config: {'_model_dir': 'C:\\\\Python27\\\\Digit_recognizer\\\\Log', '_tf_random_seed': None, '_save_summary_steps': 100, '_save_checkpoints_steps': None, '_save_checkpoints_secs': 600, '_session_config': None, '_keep_checkpoint_max': 5, '_keep_checkpoint_every_n_hours': 10000, '_log_step_count_steps': 100, '_train_distribute': None, '_service': None, '_cluster_spec': <tensorflow.python.training.server_lib.ClusterSpec object at 0x000001F3212B82E8>, '_task_type': 'worker', '_task_id': 0, '_global_id_in_cluster': 0, '_master': '', '_evaluation_master': '', '_is_chief': True, '_num_ps_replicas': 0, '_num_worker_replicas': 1}\n",
      "Training on data 0 till 500\n",
      "INFO:tensorflow:Calling model_fn.\n",
      "INFO:tensorflow:Done calling model_fn.\n",
      "INFO:tensorflow:Create CheckpointSaverHook.\n",
      "INFO:tensorflow:Graph was finalized.\n",
      "INFO:tensorflow:Restoring parameters from C:\\Python27\\Digit_recognizer\\Log\\model.ckpt-5001\n",
      "INFO:tensorflow:Running local_init_op.\n",
      "INFO:tensorflow:Done running local_init_op.\n",
      "INFO:tensorflow:Saving checkpoints for 5002 into C:\\Python27\\Digit_recognizer\\Log\\model.ckpt.\n",
      "INFO:tensorflow:loss = 0.061712391674518585, step = 5002\n",
      "INFO:tensorflow:classes = [4 0 5 7 0]\n",
      "INFO:tensorflow:Saving checkpoints for 5101 into C:\\Python27\\Digit_recognizer\\Log\\model.ckpt.\n",
      "INFO:tensorflow:Loss for final step: 0.005494330078363419.\n",
      "Evaluation after training on data till 500\n",
      "INFO:tensorflow:Calling model_fn.\n",
      "INFO:tensorflow:Done calling model_fn.\n",
      "INFO:tensorflow:Starting evaluation at 2018-07-21-14:09:46\n",
      "INFO:tensorflow:Graph was finalized.\n",
      "INFO:tensorflow:Restoring parameters from C:\\Python27\\Digit_recognizer\\Log\\model.ckpt-5101\n",
      "INFO:tensorflow:Running local_init_op.\n",
      "INFO:tensorflow:Done running local_init_op.\n",
      "INFO:tensorflow:Finished evaluation at 2018-07-21-14:10:20\n",
      "INFO:tensorflow:Saving dict for global step 5101: accuracy = 0.953, global_step = 5101, loss = 0.1606172\n",
      "Training on data 500 till 1000\n",
      "INFO:tensorflow:Calling model_fn.\n",
      "INFO:tensorflow:Done calling model_fn.\n",
      "INFO:tensorflow:Create CheckpointSaverHook.\n",
      "INFO:tensorflow:Graph was finalized.\n",
      "INFO:tensorflow:Restoring parameters from C:\\Python27\\Digit_recognizer\\Log\\model.ckpt-5101\n",
      "INFO:tensorflow:Running local_init_op.\n",
      "INFO:tensorflow:Done running local_init_op.\n",
      "INFO:tensorflow:Saving checkpoints for 5102 into C:\\Python27\\Digit_recognizer\\Log\\model.ckpt.\n",
      "INFO:tensorflow:loss = 0.003206586930900812, step = 5102\n",
      "INFO:tensorflow:classes = [6 3 5 9 7]\n",
      "INFO:tensorflow:Saving checkpoints for 5201 into C:\\Python27\\Digit_recognizer\\Log\\model.ckpt.\n",
      "INFO:tensorflow:Loss for final step: 0.0075996145606040955.\n",
      "Evaluation after training on data till 1000\n",
      "INFO:tensorflow:Calling model_fn.\n",
      "INFO:tensorflow:Done calling model_fn.\n",
      "INFO:tensorflow:Starting evaluation at 2018-07-21-14:10:50\n",
      "INFO:tensorflow:Graph was finalized.\n",
      "INFO:tensorflow:Restoring parameters from C:\\Python27\\Digit_recognizer\\Log\\model.ckpt-5201\n",
      "INFO:tensorflow:Running local_init_op.\n",
      "INFO:tensorflow:Done running local_init_op.\n",
      "INFO:tensorflow:Finished evaluation at 2018-07-21-14:11:27\n",
      "INFO:tensorflow:Saving dict for global step 5201: accuracy = 0.9522, global_step = 5201, loss = 0.16414511\n"
     ]
    }
   ],
   "source": [
    "clf2=train_model(evl_f,evl_l,evl2_f,evl2_l,5,3000,10)"
   ]
  },
  {
   "cell_type": "code",
   "execution_count": null,
   "metadata": {},
   "outputs": [],
   "source": [
    "print(\"Starting predictions..\")"
   ]
  },
  {
   "cell_type": "code",
   "execution_count": 56,
   "metadata": {},
   "outputs": [
    {
     "name": "stdout",
     "output_type": "stream",
     "text": [
      "INFO:tensorflow:Calling model_fn.\n",
      "INFO:tensorflow:Done calling model_fn.\n",
      "INFO:tensorflow:Graph was finalized.\n",
      "INFO:tensorflow:Restoring parameters from C:\\Python27\\Digit_recognizer\\Log\\model.ckpt-5001\n",
      "INFO:tensorflow:Running local_init_op.\n",
      "INFO:tensorflow:Done running local_init_op.\n"
     ]
    }
   ],
   "source": [
    "predict_input_fn=create_predict_input_fn(test.iloc[0:10,:],test.iloc[0:10],1)\n",
    "pred=clf.predict(input_fn=predict_input_fn)\n",
    "outcome=[]\n",
    "for i in pred:\n",
    "    outcome.append(i[\"class_ids\"][0])\n",
    "outcome=np.array(outcome)"
   ]
  },
  {
   "cell_type": "code",
   "execution_count": 43,
   "metadata": {},
   "outputs": [],
   "source": [
    "sample=pd.read_csv(\"sample_submission.csv\")\n",
    "sample[\"Label\"]=outcome\n",
    "sample.to_csv(\"Submission.csv\",index=False)"
   ]
  },
  {
   "cell_type": "code",
   "execution_count": null,
   "metadata": {},
   "outputs": [],
   "source": [
    "print(\"Done\")"
   ]
  }
 ],
 "metadata": {
  "kernelspec": {
   "display_name": "py36",
   "language": "python",
   "name": "py36"
  },
  "language_info": {
   "codemirror_mode": {
    "name": "ipython",
    "version": 3
   },
   "file_extension": ".py",
   "mimetype": "text/x-python",
   "name": "python",
   "nbconvert_exporter": "python",
   "pygments_lexer": "ipython3",
   "version": "3.6.5"
  }
 },
 "nbformat": 4,
 "nbformat_minor": 2
}
