{
 "cells": [
  {
   "cell_type": "markdown",
   "metadata": {},
   "source": [
    "# Digit recognizer"
   ]
  },
  {
   "cell_type": "code",
   "execution_count": 38,
   "metadata": {},
   "outputs": [],
   "source": [
    "### Importing libraries\n",
    "from matplotlib import pyplot as plt\n",
    "import numpy as np\n",
    "import pandas as pd\n",
    "import seaborn as sns\n",
    "from sklearn import metrics\n",
    "import tensorflow as tf\n",
    "from time import time\n",
    "tf.logging.set_verbosity(tf.logging.INFO) # DEBUG,WARN,INFO,FATAL,ERROR\n",
    "\n",
    "pd.options.display.max_rows = 10\n",
    "pd.options.display.float_format = '{:.1f}'.format"
   ]
  },
  {
   "cell_type": "code",
   "execution_count": 65,
   "metadata": {},
   "outputs": [],
   "source": [
    "### Importing MNIST dataset\n",
    "train=pd.read_csv(\"train.csv\")\n",
    "train=train.astype(float)\n",
    "test=pd.read_csv(\"test.csv\")\n",
    "test=test.astype(float)"
   ]
  },
  {
   "cell_type": "code",
   "execution_count": 74,
   "metadata": {},
   "outputs": [],
   "source": [
    "### Splitting the training data\n",
    "evl=train.iloc[0:100,:]\n",
    "evl2=train.iloc[100:200,:]\n",
    "\n",
    "### Splitting labels and features\n",
    "evl_l=evl[\"label\"].astype(int)\n",
    "evl_f=evl.iloc[:,1:]\n",
    "\n",
    "evl2_l=evl2[\"label\"].astype(int)\n",
    "evl2_f=evl2.iloc[:,1:]"
   ]
  },
  {
   "cell_type": "code",
   "execution_count": 41,
   "metadata": {},
   "outputs": [
    {
     "data": {
      "image/png": "[encoded data removed]",
      "text/plain": [
       "<Figure size 432x288 with 1 Axes>"
      ]
     },
     "metadata": {},
     "output_type": "display_data"
    }
   ],
   "source": [
    "### Showing random example\n",
    "random=np.random.randint(len(evl_f)-1)\n",
    "_, ax = plt.subplots()\n",
    "ax.matshow(evl_f.iloc[random,:].values.reshape(28, 28))\n",
    "ax.grid(False)"
   ]
  },
  {
   "cell_type": "markdown",
   "metadata": {},
   "source": [
    "### Convolutional neural network"
   ]
  },
  {
   "cell_type": "code",
   "execution_count": 44,
   "metadata": {},
   "outputs": [],
   "source": [
    "feature_column=[tf.feature_column.numeric_column(key=\"pixels\",shape=[784])]"
   ]
  },
  {
   "cell_type": "code",
   "execution_count": 121,
   "metadata": {},
   "outputs": [],
   "source": [
    "def my_model(features,labels,mode):\n",
    "    input_layer= tf.reshape(features[\"pixels\"], [-1, 28, 28, 1])\n",
    "    conv1=tf.layers.conv2d(inputs=input_layer,filters=32,kernel_size=(5,5),padding=\"same\",activation=tf.nn.relu)\n",
    "    pool1 = tf.layers.max_pooling2d(inputs=conv1, pool_size=[2, 2], strides=2)\n",
    "    conv2 = tf.layers.conv2d(inputs=pool1,filters=64,kernel_size=[5, 5],padding=\"same\",activation=tf.nn.relu)\n",
    "    pool2 = tf.layers.max_pooling2d(inputs=conv2, pool_size=[2, 2], strides=2)\n",
    "    pool2_flat = tf.reshape(pool2, [-1, 7 * 7 * 64])\n",
    "    dense = tf.layers.dense(inputs=pool2_flat, units=1024, activation=tf.nn.relu)\n",
    "    dropout = tf.layers.dropout(inputs=dense, rate=0.4, training=mode == tf.estimator.ModeKeys.TRAIN)\n",
    "    logits = tf.layers.dense(inputs=dropout, units=10)\n",
    "    predicted_classes = tf.argmax(logits, 1)\n",
    "    \n",
    "    if mode == tf.estimator.ModeKeys.PREDICT:\n",
    "        predictions = {\n",
    "            'class_ids': predicted_classes[:, tf.newaxis],\n",
    "            'probabilities': tf.nn.softmax(logits, name=\"softmax_tensor\"),\n",
    "            'logits': logits,\n",
    "        }\n",
    "        return tf.estimator.EstimatorSpec(mode, predictions=predictions)\n",
    "    \n",
    "    loss = tf.losses.sparse_softmax_cross_entropy(labels=labels, logits=logits)\n",
    "    \n",
    "    if mode == tf.estimator.ModeKeys.TRAIN:\n",
    "        optimizer = tf.train.GradientDescentOptimizer(learning_rate=0.001)\n",
    "        train_op = optimizer.minimize(loss=loss,global_step=tf.train.get_global_step())\n",
    "        return tf.estimator.EstimatorSpec(mode=mode, loss=loss, train_op=train_op)\n",
    "    \n",
    "    eval_metric_ops = {\n",
    "        \"accuracy\": tf.metrics.accuracy(\n",
    "        labels=labels, predictions=predictions[\"classes\"])\n",
    "    }   \n",
    "    return tf.estimator.EstimatorSpec(mode=mode, loss=loss, eval_metric_ops=eval_metric_ops)\n",
    "\n",
    "    \n"
   ]
  },
  {
   "cell_type": "code",
   "execution_count": 115,
   "metadata": {},
   "outputs": [
    {
     "name": "stdout",
     "output_type": "stream",
     "text": [
      "INFO:tensorflow:Using default config.\n",
      "WARNING:tensorflow:Using temporary folder as model directory: C:\\Users\\Steven\\AppData\\Local\\Temp\\tmpmgma70et\n",
      "INFO:tensorflow:Using config: {'_model_dir': 'C:\\\\Users\\\\Steven\\\\AppData\\\\Local\\\\Temp\\\\tmpmgma70et', '_tf_random_seed': None, '_save_summary_steps': 100, '_save_checkpoints_steps': None, '_save_checkpoints_secs': 600, '_session_config': None, '_keep_checkpoint_max': 5, '_keep_checkpoint_every_n_hours': 10000, '_log_step_count_steps': 100, '_train_distribute': None, '_service': None, '_cluster_spec': <tensorflow.python.training.server_lib.ClusterSpec object at 0x000002D1D24D2160>, '_task_type': 'worker', '_task_id': 0, '_global_id_in_cluster': 0, '_master': '', '_evaluation_master': '', '_is_chief': True, '_num_ps_replicas': 0, '_num_worker_replicas': 1}\n"
     ]
    }
   ],
   "source": [
    "clf=tf.estimator.Estimator(model_fn=my_model)"
   ]
  },
  {
   "cell_type": "code",
   "execution_count": 120,
   "metadata": {},
   "outputs": [
    {
     "name": "stdout",
     "output_type": "stream",
     "text": [
      "INFO:tensorflow:Calling model_fn.\n",
      "INFO:tensorflow:Done calling model_fn.\n",
      "INFO:tensorflow:Create CheckpointSaverHook.\n",
      "INFO:tensorflow:Graph was finalized.\n",
      "INFO:tensorflow:Running local_init_op.\n",
      "INFO:tensorflow:Done running local_init_op.\n",
      "INFO:tensorflow:Saving checkpoints for 1 into C:\\Users\\Steven\\AppData\\Local\\Temp\\tmpmgma70et\\model.ckpt.\n",
      "INFO:tensorflow:loss = 26.435455322265625, step = 1\n",
      "INFO:tensorflow:Saving checkpoints for 100 into C:\\Users\\Steven\\AppData\\Local\\Temp\\tmpmgma70et\\model.ckpt.\n",
      "INFO:tensorflow:Loss for final step: 0.5639075040817261.\n"
     ]
    },
    {
     "data": {
      "text/plain": [
       "<tensorflow.python.estimator.estimator.Estimator at 0x2d1d24d2320>"
      ]
     },
     "execution_count": 120,
     "metadata": {},
     "output_type": "execute_result"
    }
   ],
   "source": [
    "train_input_fn=create_training_input_fn(features2=evl_f,labels2=evl_l,batch_size=5)\n",
    "clf.train(input_fn=train_input_fn,steps=100)"
   ]
  },
  {
   "cell_type": "code",
   "execution_count": 122,
   "metadata": {},
   "outputs": [],
   "source": [
    "predict_input_fn=create_predict_input_fn(evl2_f,evl2_l,1)"
   ]
  },
  {
   "cell_type": "code",
   "execution_count": 123,
   "metadata": {},
   "outputs": [],
   "source": [
    "pred=clf.predict(input_fn=predict_input_fn)"
   ]
  },
  {
   "cell_type": "code",
   "execution_count": 124,
   "metadata": {},
   "outputs": [
    {
     "name": "stdout",
     "output_type": "stream",
     "text": [
      "INFO:tensorflow:Calling model_fn.\n",
      "INFO:tensorflow:Done calling model_fn.\n",
      "INFO:tensorflow:Graph was finalized.\n",
      "INFO:tensorflow:Restoring parameters from C:\\Users\\Steven\\AppData\\Local\\Temp\\tmpmgma70et\\model.ckpt-100\n",
      "INFO:tensorflow:Running local_init_op.\n",
      "INFO:tensorflow:Done running local_init_op.\n"
     ]
    }
   ],
   "source": [
    "outcome=[]\n",
    "for i in pred:\n",
    "    outcome.append(i[\"class_ids\"][0])\n",
    "outcome=np.array(outcome)"
   ]
  },
  {
   "cell_type": "code",
   "execution_count": 125,
   "metadata": {},
   "outputs": [
    {
     "data": {
      "text/plain": [
       "array([9, 2, 9, 7, 6, 8, 9, 5, 0, 6, 0, 6, 3, 9, 0, 7, 7, 1, 1, 6, 6, 9,\n",
       "       4, 6, 1, 0, 9, 6, 0, 0, 4, 6, 2, 6, 1, 1, 7, 3, 7, 3, 1, 0, 3, 6,\n",
       "       5, 4, 0, 0, 9, 0, 3, 5, 1, 0, 6, 3, 7, 0, 9, 6, 6, 9, 5, 9, 1, 9,\n",
       "       9, 3, 4, 2, 9, 8, 2, 1, 5, 2, 2, 0, 2, 5, 9, 3, 1, 2, 4, 1, 6, 9,\n",
       "       0, 6, 1, 9, 9, 3, 6, 0, 6, 2, 3, 6], dtype=int64)"
      ]
     },
     "execution_count": 125,
     "metadata": {},
     "output_type": "execute_result"
    }
   ],
   "source": [
    "outcome"
   ]
  },
  {
   "cell_type": "code",
   "execution_count": 126,
   "metadata": {},
   "outputs": [
    {
     "data": {
      "text/plain": [
       "100    9\n",
       "101    2\n",
       "102    7\n",
       "103    7\n",
       "104    2\n",
       "      ..\n",
       "195    0\n",
       "196    0\n",
       "197    8\n",
       "198    3\n",
       "199    2\n",
       "Name: label, Length: 100, dtype: int32"
      ]
     },
     "execution_count": 126,
     "metadata": {},
     "output_type": "execute_result"
    }
   ],
   "source": [
    "evl2_l"
   ]
  },
  {
   "cell_type": "code",
   "execution_count": 127,
   "metadata": {},
   "outputs": [
    {
     "data": {
      "text/plain": [
       "0.61"
      ]
     },
     "execution_count": 127,
     "metadata": {},
     "output_type": "execute_result"
    }
   ],
   "source": [
    "metrics.accuracy_score(evl2_l,outcome)"
   ]
  },
  {
   "cell_type": "markdown",
   "metadata": {},
   "source": [
    "### Linear classifier"
   ]
  },
  {
   "cell_type": "code",
   "execution_count": 6,
   "metadata": {},
   "outputs": [],
   "source": [
    "def create_training_input_fn(features2,labels2,batch_size,epochs=None):\n",
    "    def _input_fn():\n",
    "        idx=np.random.permutation(features2.index.values)\n",
    "        features=features2.reindex(idx)\n",
    "        features={\"pixels\":features}\n",
    "        labels=np.array(labels2[idx])\n",
    "        ds=tf.data.Dataset.from_tensor_slices((features,labels))\n",
    "        ds=ds.batch(batch_size).repeat(epochs)\n",
    "        ds=ds.shuffle(40000)\n",
    "        \n",
    "        feature_batch,label_batch=ds.make_one_shot_iterator().get_next()\n",
    "        return feature_batch,label_batch\n",
    "    return _input_fn"
   ]
  },
  {
   "cell_type": "code",
   "execution_count": 7,
   "metadata": {},
   "outputs": [],
   "source": [
    "def create_predict_input_fn(features2,labels2,batch_size):\n",
    "    def _input_fn():\n",
    "        features={\"pixels\":features2}\n",
    "        labels=np.array(labels2)\n",
    "        \n",
    "        ds=tf.data.Dataset.from_tensor_slices((features,labels))\n",
    "        ds=ds.batch(batch_size)\n",
    "        \n",
    "        feature_batch,label_batch=ds.make_one_shot_iterator().get_next()\n",
    "        return feature_batch,label_batch\n",
    "    return _input_fn"
   ]
  },
  {
   "cell_type": "code",
   "execution_count": 8,
   "metadata": {},
   "outputs": [],
   "source": [
    "def train_linear_classifier(train_f,train_l,pred_f,pred_l,batch_size,steps,learning_rate,periods):\n",
    "    training_input_fn=create_training_input_fn(train_f,train_l,batch_size=batch_size)\n",
    "    predict_input_fn=create_predict_input_fn(evl2_f,evl2_l,batch_size=1)\n",
    "    a=time()\n",
    "    optimizer=tf.train.AdagradOptimizer(learning_rate=learning_rate)\n",
    "    classifier=tf.estimator.LinearClassifier(feature_columns=construct_feature_columns(), \n",
    "                                         n_classes=10, \n",
    "                                         optimizer=optimizer,\n",
    "                                         config=tf.estimator.RunConfig(keep_checkpoint_max=1))\n",
    "    steps_per=steps/periods\n",
    "    print(\"Time to create classifier: %f\" % (time()-a))\n",
    "    for i in range(periods):\n",
    "        classifier.train(input_fn=training_input_fn,steps=steps_per)\n",
    "        print(\"Time to train: %f\" %(time()-a))\n",
    "        pred=classifier.predict(input_fn=predict_input_fn)\n",
    "        pred2=np.array([item[\"class_ids\"][0] for item in pred])\n",
    "        print(\"Time to predict: %f\" %(time()-a))\n",
    "        \n",
    "        print(metrics.accuracy_score(np.array(evl2_l),pred2))\n",
    "    \n",
    "    return classifier"
   ]
  },
  {
   "cell_type": "code",
   "execution_count": 11,
   "metadata": {
    "scrolled": true
   },
   "outputs": [
    {
     "name": "stdout",
     "output_type": "stream",
     "text": [
      "WARNING:tensorflow:Using temporary folder as model directory: C:\\Users\\Steven\\AppData\\Local\\Temp\\tmpkvradeen\n",
      "INFO:tensorflow:Using config: {'_model_dir': 'C:\\\\Users\\\\Steven\\\\AppData\\\\Local\\\\Temp\\\\tmpkvradeen', '_tf_random_seed': None, '_save_summary_steps': 100, '_save_checkpoints_steps': None, '_save_checkpoints_secs': 600, '_session_config': None, '_keep_checkpoint_max': 1, '_keep_checkpoint_every_n_hours': 10000, '_log_step_count_steps': 100, '_train_distribute': None, '_service': None, '_cluster_spec': <tensorflow.python.training.server_lib.ClusterSpec object at 0x000002D1D0E79DD8>, '_task_type': 'worker', '_task_id': 0, '_global_id_in_cluster': 0, '_master': '', '_evaluation_master': '', '_is_chief': True, '_num_ps_replicas': 0, '_num_worker_replicas': 1}\n",
      "Time to create classifier: 0.062502\n",
      "INFO:tensorflow:Calling model_fn.\n",
      "INFO:tensorflow:Done calling model_fn.\n",
      "INFO:tensorflow:Create CheckpointSaverHook.\n",
      "INFO:tensorflow:Graph was finalized.\n",
      "INFO:tensorflow:Running local_init_op.\n",
      "INFO:tensorflow:Done running local_init_op.\n",
      "INFO:tensorflow:Saving checkpoints for 1 into C:\\Users\\Steven\\AppData\\Local\\Temp\\tmpkvradeen\\model.ckpt.\n",
      "INFO:tensorflow:loss = 69.07756, step = 1\n",
      "INFO:tensorflow:global_step/sec: 13.7118\n",
      "INFO:tensorflow:loss = 0.0, step = 101 (7.089 sec)\n",
      "INFO:tensorflow:Saving checkpoints for 125 into C:\\Users\\Steven\\AppData\\Local\\Temp\\tmpkvradeen\\model.ckpt.\n",
      "INFO:tensorflow:Loss for final step: 0.0.\n",
      "Time to train: 129.120966\n",
      "INFO:tensorflow:Calling model_fn.\n",
      "INFO:tensorflow:Done calling model_fn.\n",
      "INFO:tensorflow:Graph was finalized.\n",
      "INFO:tensorflow:Restoring parameters from C:\\Users\\Steven\\AppData\\Local\\Temp\\tmpkvradeen\\model.ckpt-125\n",
      "INFO:tensorflow:Running local_init_op.\n",
      "INFO:tensorflow:Done running local_init_op.\n",
      "Time to predict: 131.490713\n",
      "0.67\n",
      "INFO:tensorflow:Calling model_fn.\n",
      "INFO:tensorflow:Done calling model_fn.\n",
      "INFO:tensorflow:Create CheckpointSaverHook.\n",
      "INFO:tensorflow:Graph was finalized.\n",
      "INFO:tensorflow:Restoring parameters from C:\\Users\\Steven\\AppData\\Local\\Temp\\tmpkvradeen\\model.ckpt-125\n",
      "INFO:tensorflow:Running local_init_op.\n",
      "INFO:tensorflow:Done running local_init_op.\n",
      "INFO:tensorflow:Saving checkpoints for 126 into C:\\Users\\Steven\\AppData\\Local\\Temp\\tmpkvradeen\\model.ckpt.\n",
      "INFO:tensorflow:loss = 5.960463e-07, step = 126\n",
      "INFO:tensorflow:global_step/sec: 60.1162\n",
      "INFO:tensorflow:loss = 0.0, step = 226 (1.617 sec)\n",
      "INFO:tensorflow:Saving checkpoints for 250 into C:\\Users\\Steven\\AppData\\Local\\Temp\\tmpkvradeen\\model.ckpt.\n",
      "INFO:tensorflow:Loss for final step: 5.960463e-07.\n",
      "Time to train: 213.815580\n",
      "INFO:tensorflow:Calling model_fn.\n",
      "INFO:tensorflow:Done calling model_fn.\n",
      "INFO:tensorflow:Graph was finalized.\n",
      "INFO:tensorflow:Restoring parameters from C:\\Users\\Steven\\AppData\\Local\\Temp\\tmpkvradeen\\model.ckpt-250\n",
      "INFO:tensorflow:Running local_init_op.\n",
      "INFO:tensorflow:Done running local_init_op.\n",
      "Time to predict: 215.742321\n",
      "0.67\n",
      "INFO:tensorflow:Calling model_fn.\n",
      "INFO:tensorflow:Done calling model_fn.\n",
      "INFO:tensorflow:Create CheckpointSaverHook.\n",
      "INFO:tensorflow:Graph was finalized.\n",
      "INFO:tensorflow:Restoring parameters from C:\\Users\\Steven\\AppData\\Local\\Temp\\tmpkvradeen\\model.ckpt-250\n",
      "INFO:tensorflow:Running local_init_op.\n",
      "INFO:tensorflow:Done running local_init_op.\n",
      "INFO:tensorflow:Saving checkpoints for 251 into C:\\Users\\Steven\\AppData\\Local\\Temp\\tmpkvradeen\\model.ckpt.\n",
      "INFO:tensorflow:loss = 0.0, step = 251\n",
      "INFO:tensorflow:global_step/sec: 14.4327\n",
      "INFO:tensorflow:loss = 2.3841855e-07, step = 351 (6.429 sec)\n",
      "INFO:tensorflow:Saving checkpoints for 375 into C:\\Users\\Steven\\AppData\\Local\\Temp\\tmpkvradeen\\model.ckpt.\n",
      "INFO:tensorflow:Loss for final step: 2.3841855e-07.\n",
      "Time to train: 489.689594\n",
      "INFO:tensorflow:Calling model_fn.\n",
      "INFO:tensorflow:Done calling model_fn.\n",
      "INFO:tensorflow:Graph was finalized.\n",
      "INFO:tensorflow:Restoring parameters from C:\\Users\\Steven\\AppData\\Local\\Temp\\tmpkvradeen\\model.ckpt-375\n",
      "INFO:tensorflow:Running local_init_op.\n",
      "INFO:tensorflow:Done running local_init_op.\n",
      "Time to predict: 492.695255\n",
      "0.67\n",
      "INFO:tensorflow:Calling model_fn.\n",
      "INFO:tensorflow:Done calling model_fn.\n",
      "INFO:tensorflow:Create CheckpointSaverHook.\n",
      "INFO:tensorflow:Graph was finalized.\n",
      "INFO:tensorflow:Restoring parameters from C:\\Users\\Steven\\AppData\\Local\\Temp\\tmpkvradeen\\model.ckpt-375\n",
      "INFO:tensorflow:Running local_init_op.\n",
      "INFO:tensorflow:Done running local_init_op.\n",
      "INFO:tensorflow:Saving checkpoints for 376 into C:\\Users\\Steven\\AppData\\Local\\Temp\\tmpkvradeen\\model.ckpt.\n",
      "INFO:tensorflow:loss = 4.7683704e-07, step = 376\n",
      "INFO:tensorflow:global_step/sec: 20.2661\n",
      "INFO:tensorflow:loss = 4.7683704e-07, step = 476 (4.215 sec)\n",
      "INFO:tensorflow:Saving checkpoints for 500 into C:\\Users\\Steven\\AppData\\Local\\Temp\\tmpkvradeen\\model.ckpt.\n",
      "INFO:tensorflow:Loss for final step: 0.0.\n",
      "Time to train: 628.348981\n",
      "INFO:tensorflow:Calling model_fn.\n",
      "INFO:tensorflow:Done calling model_fn.\n",
      "INFO:tensorflow:Graph was finalized.\n",
      "INFO:tensorflow:Restoring parameters from C:\\Users\\Steven\\AppData\\Local\\Temp\\tmpkvradeen\\model.ckpt-500\n",
      "INFO:tensorflow:Running local_init_op.\n",
      "INFO:tensorflow:Done running local_init_op.\n",
      "Time to predict: 631.739933\n",
      "0.67\n"
     ]
    }
   ],
   "source": [
    "classifier=train_linear_classifier(train_f=evl_f,\n",
    "                                   train_l=evl_l,\n",
    "                                   pred_f=evl2_f,\n",
    "                                   pred_l=evl2_l,\n",
    "                                   batch_size=30,\n",
    "                                   steps=500,\n",
    "                                   learning_rate=0.01,\n",
    "                                   periods=4)"
   ]
  },
  {
   "cell_type": "code",
   "execution_count": null,
   "metadata": {},
   "outputs": [],
   "source": []
  }
 ],
 "metadata": {
  "kernelspec": {
   "display_name": "py36",
   "language": "python",
   "name": "py36"
  },
  "language_info": {
   "codemirror_mode": {
    "name": "ipython",
    "version": 3
   },
   "file_extension": ".py",
   "mimetype": "text/x-python",
   "name": "python",
   "nbconvert_exporter": "python",
   "pygments_lexer": "ipython3",
   "version": "3.6.5"
  }
 },
 "nbformat": 4,
 "nbformat_minor": 2
}
