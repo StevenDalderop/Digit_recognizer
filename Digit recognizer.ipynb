{
 "cells": [
  {
   "cell_type": "markdown",
   "metadata": {},
   "source": [
    "# Digit recognizer"
   ]
  },
  {
   "cell_type": "code",
   "execution_count": 15,
   "metadata": {},
   "outputs": [],
   "source": [
    "### Importing libraries\n",
    "from matplotlib import pyplot as plt\n",
    "import numpy as np\n",
    "import pandas as pd\n",
    "import seaborn as sns\n",
    "from sklearn import metrics\n",
    "import tensorflow as tf\n",
    "\n",
    "pd.options.display.max_rows = 10\n",
    "pd.options.display.float_format = '{:.1f}'.format\n",
    "\n",
    "### Importing MNIST dataset\n",
    "train=pd.read_csv(\"train.csv\")\n",
    "test=pd.read_csv(\"test.csv\")"
   ]
  },
  {
   "cell_type": "code",
   "execution_count": 16,
   "metadata": {},
   "outputs": [],
   "source": [
    "### Splitting the training data\n",
    "evl=train.iloc[38000:,:]\n",
    "evl2=train.iloc[37900:38000,:]\n",
    "train=train.iloc[0:34000,:]"
   ]
  },
  {
   "cell_type": "code",
   "execution_count": 17,
   "metadata": {},
   "outputs": [],
   "source": [
    "### Splitting labels and features\n",
    "train_l=train[\"label\"]\n",
    "train_f=train.iloc[:,1:]\n",
    "\n",
    "evl_l=evl[\"label\"]\n",
    "evl_f=evl.iloc[:,1:]\n",
    "\n",
    "evl2_l=evl[\"label\"]\n",
    "evl2_f=evl.iloc[:,1:]"
   ]
  },
  {
   "cell_type": "code",
   "execution_count": 18,
   "metadata": {},
   "outputs": [
    {
     "data": {
      "image/png": "[encoded data removed]",
      "text/plain": [
       "<Figure size 432x288 with 1 Axes>"
      ]
     },
     "metadata": {},
     "output_type": "display_data"
    }
   ],
   "source": [
    "### Showing random example\n",
    "random=np.random.randint(len(train)-1)\n",
    "_, ax = plt.subplots()\n",
    "ax.matshow(train_f.iloc[random,:].values.reshape(28, 28))\n",
    "ax.grid(False)"
   ]
  },
  {
   "cell_type": "code",
   "execution_count": 19,
   "metadata": {},
   "outputs": [],
   "source": [
    "def construct_feature_columns():\n",
    "    return set([tf.feature_column.numeric_column(\"pixels\",shape=784)])"
   ]
  },
  {
   "cell_type": "code",
   "execution_count": 20,
   "metadata": {},
   "outputs": [],
   "source": [
    "def create_training_input_fn(features2,labels2,batch_size,epochs=None):\n",
    "    def _input_fn():\n",
    "        idx=np.random.permutation(features2.index.values)\n",
    "        features=features2.reindex(idx)\n",
    "        features={\"pixels\":features}\n",
    "        labels=np.array(labels2[idx])\n",
    "        ds=tf.data.Dataset.from_tensor_slices((features,labels))\n",
    "        ds=ds.batch(batch_size).repeat(epochs)\n",
    "        ds=ds.shuffle(40000)\n",
    "        \n",
    "        feature_batch,label_batch=ds.make_one_shot_iterator().get_next()\n",
    "        return feature_batch,label_batch\n",
    "    return _input_fn"
   ]
  },
  {
   "cell_type": "code",
   "execution_count": 29,
   "metadata": {},
   "outputs": [],
   "source": [
    "def create_predict_input_fn(features2,labels2,batch_size):\n",
    "    def _input_fn():\n",
    "        features={\"pixels\":features2}\n",
    "        labels=np.array(labels2)\n",
    "        \n",
    "        ds=tf.data.Dataset.from_tensor_slices((features,labels))\n",
    "        ds=ds.batch(batch_size)\n",
    "        \n",
    "        feature_batch,label_batch=ds.make_one_shot_iterator().get_next()\n",
    "        return feature_batch,label_batch\n",
    "    return _input_fn"
   ]
  },
  {
   "cell_type": "code",
   "execution_count": 22,
   "metadata": {},
   "outputs": [],
   "source": [
    "training_input_fn=create_training_input_fn(evl_f,evl_l,batch_size=1)"
   ]
  },
  {
   "cell_type": "code",
   "execution_count": 30,
   "metadata": {},
   "outputs": [],
   "source": [
    "predict_input_fn=create_predict_input_fn(evl2_f,evl2_l,batch_size=1)"
   ]
  },
  {
   "cell_type": "code",
   "execution_count": 24,
   "metadata": {},
   "outputs": [
    {
     "name": "stdout",
     "output_type": "stream",
     "text": [
      "WARNING:tensorflow:Using temporary folder as model directory: C:\\Users\\Steven\\AppData\\Local\\Temp\\tmptan9v9_i\n",
      "INFO:tensorflow:Using config: {'_model_dir': 'C:\\\\Users\\\\Steven\\\\AppData\\\\Local\\\\Temp\\\\tmptan9v9_i', '_tf_random_seed': None, '_save_summary_steps': 100, '_save_checkpoints_steps': None, '_save_checkpoints_secs': 600, '_session_config': None, '_keep_checkpoint_max': 1, '_keep_checkpoint_every_n_hours': 10000, '_log_step_count_steps': 100, '_train_distribute': None, '_service': None, '_cluster_spec': <tensorflow.python.training.server_lib.ClusterSpec object at 0x0000017508A75A90>, '_task_type': 'worker', '_task_id': 0, '_global_id_in_cluster': 0, '_master': '', '_evaluation_master': '', '_is_chief': True, '_num_ps_replicas': 0, '_num_worker_replicas': 1}\n"
     ]
    }
   ],
   "source": [
    "classifier=tf.estimator.LinearClassifier(feature_columns=construct_feature_columns(), \n",
    "                                         n_classes=10, \n",
    "                                         optimizer=\"Ftrl\",\n",
    "                                         config=tf.estimator.RunConfig(keep_checkpoint_max=1))"
   ]
  },
  {
   "cell_type": "code",
   "execution_count": 25,
   "metadata": {},
   "outputs": [
    {
     "name": "stdout",
     "output_type": "stream",
     "text": [
      "INFO:tensorflow:Calling model_fn.\n",
      "INFO:tensorflow:Done calling model_fn.\n",
      "INFO:tensorflow:Create CheckpointSaverHook.\n",
      "INFO:tensorflow:Graph was finalized.\n",
      "INFO:tensorflow:Running local_init_op.\n",
      "INFO:tensorflow:Done running local_init_op.\n",
      "INFO:tensorflow:Saving checkpoints for 1 into C:\\Users\\Steven\\AppData\\Local\\Temp\\tmptan9v9_i\\model.ckpt.\n",
      "INFO:tensorflow:loss = 2.3025851, step = 1\n",
      "INFO:tensorflow:Saving checkpoints for 5 into C:\\Users\\Steven\\AppData\\Local\\Temp\\tmptan9v9_i\\model.ckpt.\n",
      "INFO:tensorflow:Loss for final step: 2690.1328.\n"
     ]
    },
    {
     "data": {
      "text/plain": [
       "<tensorflow.python.estimator.canned.linear.LinearClassifier at 0x175088fccf8>"
      ]
     },
     "execution_count": 25,
     "metadata": {},
     "output_type": "execute_result"
    }
   ],
   "source": [
    "classifier.train(input_fn=training_input_fn,steps=5)"
   ]
  },
  {
   "cell_type": "code",
   "execution_count": 43,
   "metadata": {},
   "outputs": [],
   "source": [
    "pred=classifier.predict(input_fn=predict_input_fn)"
   ]
  },
  {
   "cell_type": "code",
   "execution_count": 44,
   "metadata": {},
   "outputs": [
    {
     "data": {
      "text/plain": [
       "<generator object Estimator.predict at 0x0000017506DBB200>"
      ]
     },
     "execution_count": 44,
     "metadata": {},
     "output_type": "execute_result"
    }
   ],
   "source": [
    "pred"
   ]
  },
  {
   "cell_type": "code",
   "execution_count": 45,
   "metadata": {},
   "outputs": [
    {
     "name": "stdout",
     "output_type": "stream",
     "text": [
      "INFO:tensorflow:Calling model_fn.\n",
      "INFO:tensorflow:Done calling model_fn.\n",
      "INFO:tensorflow:Graph was finalized.\n",
      "INFO:tensorflow:Restoring parameters from C:\\Users\\Steven\\AppData\\Local\\Temp\\tmptan9v9_i\\model.ckpt-5\n",
      "INFO:tensorflow:Running local_init_op.\n",
      "INFO:tensorflow:Done running local_init_op.\n"
     ]
    }
   ],
   "source": [
    "pred=np.array([item['class_ids'][0] for item in pred])"
   ]
  },
  {
   "cell_type": "code",
   "execution_count": 50,
   "metadata": {},
   "outputs": [
    {
     "data": {
      "text/plain": [
       "array([0, 8, 8, ..., 0, 0, 8], dtype=int64)"
      ]
     },
     "execution_count": 50,
     "metadata": {},
     "output_type": "execute_result"
    }
   ],
   "source": [
    "pred"
   ]
  },
  {
   "cell_type": "code",
   "execution_count": null,
   "metadata": {},
   "outputs": [],
   "source": []
  }
 ],
 "metadata": {
  "kernelspec": {
   "display_name": "py36",
   "language": "python",
   "name": "py36"
  },
  "language_info": {
   "codemirror_mode": {
    "name": "ipython",
    "version": 3
   },
   "file_extension": ".py",
   "mimetype": "text/x-python",
   "name": "python",
   "nbconvert_exporter": "python",
   "pygments_lexer": "ipython3",
   "version": "3.6.5"
  }
 },
 "nbformat": 4,
 "nbformat_minor": 2
}
